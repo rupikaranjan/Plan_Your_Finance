{
 "cells": [
  {
   "cell_type": "markdown",
   "metadata": {
    "tags": []
   },
   "source": [
    "# Financial Planning with APIs and Simulations\n",
    "\n",
    "This Financial Analysis tool helps the members of Credit Union by providing the following two functionalities\n",
    "\n",
    "1: A financial planner for emergencies. The members will be able to use this tool to visualize their current savings. The members can then determine if they have enough reserves for an emergency fund.\n",
    "\n",
    "2: A financial planner for retirement. This tool will forecast the performance of their retirement portfolio in 30 years. To do this, the tool will make an Alpaca API call via the Alpaca SDK to get historical price data for use in Monte Carlo simulations.\n"
   ]
  },
  {
   "cell_type": "code",
   "execution_count": 1,
   "metadata": {},
   "outputs": [],
   "source": [
    "# Import the required libraries and dependencies\n",
    "import os\n",
    "import requests\n",
    "import json\n",
    "import pandas as pd\n",
    "from dotenv import load_dotenv\n",
    "import alpaca_trade_api as tradeapi\n",
    "from MCForecastTools import MCSimulation\n",
    "\n",
    "%matplotlib inline"
   ]
  },
  {
   "cell_type": "code",
   "execution_count": 2,
   "metadata": {},
   "outputs": [
    {
     "data": {
      "text/plain": [
       "True"
      ]
     },
     "execution_count": 2,
     "metadata": {},
     "output_type": "execute_result"
    }
   ],
   "source": [
    "# Load the environment variables from the .env file\n",
    "\n",
    "load_dotenv()"
   ]
  },
  {
   "cell_type": "markdown",
   "metadata": {},
   "source": [
    "## Part 1: Create a Financial Planner for Emergencies"
   ]
  },
  {
   "cell_type": "markdown",
   "metadata": {},
   "source": [
    "### Evaluate the Cryptocurrency Wallet by Using the Requests Library\n",
    "\n",
    "In this section, you’ll determine the current value of a member’s cryptocurrency wallet. You’ll collect the current prices for the Bitcoin and Ethereum cryptocurrencies by using the Python Requests library. For the prototype, you’ll assume that the member holds the 1.2 Bitcoins (BTC) and 5.3 Ethereum coins (ETH). To do all this, complete the following steps:\n",
    "\n",
    "1. Create a variable named `monthly_income`, and set its value to `12000`.\n",
    "\n",
    "2. Use the Requests library to get the current price (in US dollars) of Bitcoin (BTC) and Ethereum (ETH) by using the API endpoints that the starter code supplies.\n",
    "\n",
    "3. Navigate the JSON response object to access the current price of each coin, and store each in a variable.\n",
    "\n",
    "    > **Hint** Note the specific identifier for each cryptocurrency in the API JSON response. The Bitcoin identifier is `1`, and the Ethereum identifier is `1027`.\n",
    "\n",
    "4. Calculate the value, in US dollars, of the current amount of each cryptocurrency and of the entire cryptocurrency wallet.\n",
    "\n"
   ]
  },
  {
   "cell_type": "code",
   "execution_count": 3,
   "metadata": {},
   "outputs": [],
   "source": [
    "# The current number of coins for each cryptocurrency asset held in the portfolio.\n",
    "\n",
    "btc_coins = 1.2\n",
    "eth_coins = 5.3"
   ]
  },
  {
   "cell_type": "code",
   "execution_count": 4,
   "metadata": {},
   "outputs": [],
   "source": [
    "# The monthly amount for the member's household income\n",
    "# YOUR CODE HERE\n",
    "monthly_income = 12000"
   ]
  },
  {
   "cell_type": "code",
   "execution_count": 5,
   "metadata": {},
   "outputs": [],
   "source": [
    "# The Free Crypto API Call endpoint URLs for the held cryptocurrency assets\n",
    "\n",
    "btc_url = \"https://api.alternative.me/v2/ticker/Bitcoin/?convert=USD\"\n",
    "eth_url = \"https://api.alternative.me/v2/ticker/Ethereum/?convert=USD\""
   ]
  },
  {
   "cell_type": "code",
   "execution_count": 6,
   "metadata": {},
   "outputs": [
    {
     "name": "stdout",
     "output_type": "stream",
     "text": [
      "{\n",
      "    \"data\": {\n",
      "        \"1\": {\n",
      "            \"circulating_supply\": 18922600,\n",
      "            \"id\": 1,\n",
      "            \"last_updated\": 1641581791,\n",
      "            \"max_supply\": 21000000,\n",
      "            \"name\": \"Bitcoin\",\n",
      "            \"quotes\": {\n",
      "                \"USD\": {\n",
      "                    \"market_cap\": 786841626847,\n",
      "                    \"percent_change_1h\": -0.867272009909812,\n",
      "                    \"percent_change_24h\": -4.30396769921598,\n",
      "                    \"percent_change_7d\": -11.7295916771507,\n",
      "                    \"percentage_change_1h\": -0.867272009909812,\n",
      "                    \"percentage_change_24h\": -4.30396769921598,\n",
      "                    \"percentage_change_7d\": -11.7295916771507,\n",
      "                    \"price\": 41656.0,\n",
      "                    \"volume_24h\": 77866570095\n",
      "                }\n",
      "            },\n",
      "            \"rank\": 1,\n",
      "            \"symbol\": \"BTC\",\n",
      "            \"total_supply\": 18922600,\n",
      "            \"website_slug\": \"bitcoin\"\n",
      "        }\n",
      "    },\n",
      "    \"metadata\": {\n",
      "        \"error\": null,\n",
      "        \"num_cryptocurrencies\": 3105,\n",
      "        \"timestamp\": 1641581791\n",
      "    }\n",
      "}\n"
     ]
    }
   ],
   "source": [
    "# Using the Python requests library, make an API call to access the current price of BTC\n",
    "btc_response = requests.get(btc_url).json()\n",
    "print(json.dumps(btc_response, indent=4, sort_keys=True))\n"
   ]
  },
  {
   "cell_type": "code",
   "execution_count": 19,
   "metadata": {},
   "outputs": [
    {
     "name": "stdout",
     "output_type": "stream",
     "text": [
      "{\n",
      "    \"data\": {\n",
      "        \"1027\": {\n",
      "            \"circulating_supply\": 119064785,\n",
      "            \"id\": 1027,\n",
      "            \"last_updated\": 1641583389,\n",
      "            \"max_supply\": 0,\n",
      "            \"name\": \"Ethereum\",\n",
      "            \"quotes\": {\n",
      "                \"USD\": {\n",
      "                    \"market_cap\": 376389188828,\n",
      "                    \"percent_change_1h\": -0.989081712302194,\n",
      "                    \"percent_change_24h\": -8.5198153362823,\n",
      "                    \"percent_change_7d\": -14.8993900919086,\n",
      "                    \"percentage_change_1h\": -0.989081712302194,\n",
      "                    \"percentage_change_24h\": -8.5198153362823,\n",
      "                    \"percentage_change_7d\": -14.8993900919086,\n",
      "                    \"price\": 3161.44,\n",
      "                    \"volume_24h\": 24020133577\n",
      "                }\n",
      "            },\n",
      "            \"rank\": 2,\n",
      "            \"symbol\": \"ETH\",\n",
      "            \"total_supply\": 119064785,\n",
      "            \"website_slug\": \"ethereum\"\n",
      "        }\n",
      "    },\n",
      "    \"metadata\": {\n",
      "        \"error\": null,\n",
      "        \"num_cryptocurrencies\": 3105,\n",
      "        \"timestamp\": 1641583389\n",
      "    }\n",
      "}\n"
     ]
    }
   ],
   "source": [
    "# Using the Python requests library, make an API call to access the current price ETH\n",
    "\n",
    "eth_response = requests.get(eth_url).json()\n",
    "print(json.dumps(eth_response, indent=4, sort_keys=True))\n"
   ]
  },
  {
   "cell_type": "code",
   "execution_count": 21,
   "metadata": {},
   "outputs": [
    {
     "name": "stdout",
     "output_type": "stream",
     "text": [
      "\n",
      "The current market price of bitcoin is : $41656.0\n"
     ]
    }
   ],
   "source": [
    "# Navigating the BTC response object to access the current price of BTC\n",
    "\n",
    "btc_price = btc_response[\"data\"][\"1\"][\"quotes\"][\"USD\"][\"price\"]\n",
    "print(f\"\\nThe current market price of bitcoin is : ${btc_price}\")"
   ]
  },
  {
   "cell_type": "code",
   "execution_count": 22,
   "metadata": {},
   "outputs": [
    {
     "name": "stdout",
     "output_type": "stream",
     "text": [
      "\n",
      "The current market price of  is Ethereum: $3161.44\n"
     ]
    }
   ],
   "source": [
    "# Navigating the ETH response object to access the current price of ETH\n",
    "\n",
    "eth_price = eth_response[\"data\"][\"1027\"][\"quotes\"][\"USD\"][\"price\"]\n",
    "print(f\"\\nThe current market price of  is Ethereum: ${eth_price}\")"
   ]
  },
  {
   "cell_type": "code",
   "execution_count": 23,
   "metadata": {},
   "outputs": [
    {
     "name": "stdout",
     "output_type": "stream",
     "text": [
      "\n",
      "The current BTC Holding value in your wallet is: $49987.2\n"
     ]
    }
   ],
   "source": [
    "# Computing the current value of the BTC holding and printing it.\n",
    "\n",
    "btc_value = btc_coins * btc_price\n",
    "print(f\"\\nThe current BTC Holding value in your wallet is: ${btc_value}\")"
   ]
  },
  {
   "cell_type": "code",
   "execution_count": 24,
   "metadata": {},
   "outputs": [
    {
     "name": "stdout",
     "output_type": "stream",
     "text": [
      "\n",
      "The current ETH Holding value in your wallet is: $16755.632\n"
     ]
    }
   ],
   "source": [
    "# Computing the current value of the ETH holding and printing it.\n",
    "\n",
    "eth_value = eth_coins * eth_price\n",
    "print(f\"\\nThe current ETH Holding value in your wallet is: ${eth_value}\")"
   ]
  },
  {
   "cell_type": "code",
   "execution_count": 25,
   "metadata": {},
   "outputs": [
    {
     "name": "stdout",
     "output_type": "stream",
     "text": [
      "\n",
      "The Holding value in your cryptocurrency wallet is: $66742.832\n"
     ]
    }
   ],
   "source": [
    "# Computing the total value of the cryptocurrency wallet and printing it\n",
    "\n",
    "total_crypto_wallet = btc_value + eth_value\n",
    "print(f\"\\nThe Holding value in your cryptocurrency wallet is: ${total_crypto_wallet}\")\n"
   ]
  },
  {
   "cell_type": "markdown",
   "metadata": {
    "tags": []
   },
   "source": [
    "### Evaluate the Stock and Bond Holdings by Using the Alpaca SDK\n",
    "\n",
    "In this section, we’ll determine the current value of a member’s stock and bond holdings. we’ll make an API call to Alpaca via the Alpaca SDK to get the current closing prices of the SPDR S&P 500 ETF Trust (ticker: SPY) and of the iShares Core US Aggregate Bond ETF (ticker: AGG). For the prototype, assume that the member holds 110 shares of SPY, which represents the stock portion of their portfolio, and 200 shares of AGG, which represents the bond portion. \n",
    "\n",
    "1. An environment file (`.env`) is created to store the values of Alpaca API key and Alpaca secret key.\n",
    "\n",
    "2. Set the variables for the Alpaca API and secret keys. Using the Alpaca SDK, the Alpaca `tradeapi.REST` object is created.\n",
    "\n",
    "3. The following parameter for the API call is set:\n",
    "\n",
    "    - `tickers`: tickers for the member’s stock and bond holdings(\"SPY\", \"AGG\").\n",
    "\n",
    "    - `timeframe`: A time frame of one day(\"1D\").\n",
    "\n",
    "    - `start_date` and `end_date`: Set to \"2022-01-06\" to get the most recent closing price.\n",
    "\n",
    "4. we get the closing prices for `SPY` and `AGG` by using the Alpaca `get_barset` function. The Response is formatted as Pandas Dataframe.\n",
    "\n",
    "5. Navigating the Alpaca response DataFrame, select the `SPY` and `AGG` closing prices, and store them as variables.\n",
    "\n",
    "6. Calculate the value, in US dollars, of the current amount of shares in each of the stock and bond portions of the portfolio, and print the results.\n"
   ]
  },
  {
   "cell_type": "markdown",
   "metadata": {},
   "source": [
    "#### Review the total number of shares held in both (SPY) and (AGG)."
   ]
  },
  {
   "cell_type": "code",
   "execution_count": 26,
   "metadata": {},
   "outputs": [],
   "source": [
    "# Current amount of shares held in both the stock (SPY) and bond (AGG) portion of the portfolio.\n",
    "spy_shares = 110\n",
    "agg_shares = 200\n"
   ]
  },
  {
   "cell_type": "code",
   "execution_count": 28,
   "metadata": {},
   "outputs": [],
   "source": [
    "# variables for the Alpaca API and secret keys\n",
    "alpaca_api_key = os.getenv(\"ALPACA_API_KEY\")\n",
    "alpaca_secret_key = os.getenv(\"ALPACA_SECRET_KEY\")\n",
    "\n",
    "# Alpaca tradeapi.REST object creation\n",
    "alpaca = tradeapi.REST(\n",
    "    alpaca_api_key,\n",
    "    alpaca_secret_key,\n",
    "    api_version=\"v2\")\n"
   ]
  },
  {
   "cell_type": "code",
   "execution_count": 63,
   "metadata": {},
   "outputs": [],
   "source": [
    "# set tickers, timeframe start and end date.\n",
    "tickers = [\"SPY\", \"AGG\"]\n",
    "timeframe = \"1D\"\n",
    "start_date = pd.Timestamp(\"2022-01-06\" , tz=\"America/New_York\").isoformat()\n",
    "end_date = pd.Timestamp(\"2022-01-06\" , tz=\"America/New_York\").isoformat()"
   ]
  },
  {
   "cell_type": "code",
   "execution_count": 65,
   "metadata": {},
   "outputs": [
    {
     "data": {
      "text/html": [
       "<div>\n",
       "<style scoped>\n",
       "    .dataframe tbody tr th:only-of-type {\n",
       "        vertical-align: middle;\n",
       "    }\n",
       "\n",
       "    .dataframe tbody tr th {\n",
       "        vertical-align: top;\n",
       "    }\n",
       "\n",
       "    .dataframe thead tr th {\n",
       "        text-align: left;\n",
       "    }\n",
       "\n",
       "    .dataframe thead tr:last-of-type th {\n",
       "        text-align: right;\n",
       "    }\n",
       "</style>\n",
       "<table border=\"1\" class=\"dataframe\">\n",
       "  <thead>\n",
       "    <tr>\n",
       "      <th></th>\n",
       "      <th colspan=\"5\" halign=\"left\">AGG</th>\n",
       "      <th colspan=\"5\" halign=\"left\">SPY</th>\n",
       "    </tr>\n",
       "    <tr>\n",
       "      <th></th>\n",
       "      <th>open</th>\n",
       "      <th>high</th>\n",
       "      <th>low</th>\n",
       "      <th>close</th>\n",
       "      <th>volume</th>\n",
       "      <th>open</th>\n",
       "      <th>high</th>\n",
       "      <th>low</th>\n",
       "      <th>close</th>\n",
       "      <th>volume</th>\n",
       "    </tr>\n",
       "    <tr>\n",
       "      <th>time</th>\n",
       "      <th></th>\n",
       "      <th></th>\n",
       "      <th></th>\n",
       "      <th></th>\n",
       "      <th></th>\n",
       "      <th></th>\n",
       "      <th></th>\n",
       "      <th></th>\n",
       "      <th></th>\n",
       "      <th></th>\n",
       "    </tr>\n",
       "  </thead>\n",
       "  <tbody>\n",
       "    <tr>\n",
       "      <th>2022-01-06 00:00:00-05:00</th>\n",
       "      <td>112.75</td>\n",
       "      <td>112.84</td>\n",
       "      <td>112.66</td>\n",
       "      <td>112.81</td>\n",
       "      <td>6812819</td>\n",
       "      <td>467.89</td>\n",
       "      <td>470.82</td>\n",
       "      <td>465.43</td>\n",
       "      <td>467.93</td>\n",
       "      <td>78577470</td>\n",
       "    </tr>\n",
       "  </tbody>\n",
       "</table>\n",
       "</div>"
      ],
      "text/plain": [
       "                              AGG                                      SPY  \\\n",
       "                             open    high     low   close   volume    open   \n",
       "time                                                                         \n",
       "2022-01-06 00:00:00-05:00  112.75  112.84  112.66  112.81  6812819  467.89   \n",
       "\n",
       "                                                             \n",
       "                             high     low   close    volume  \n",
       "time                                                         \n",
       "2022-01-06 00:00:00-05:00  470.82  465.43  467.93  78577470  "
      ]
     },
     "execution_count": 65,
     "metadata": {},
     "output_type": "execute_result"
    }
   ],
   "source": [
    "# Get most recent closing prices for SPY and AGG\n",
    "portfolio_df = alpaca.get_barset(\n",
    "    tickers,\n",
    "    timeframe,\n",
    "    start=start_date,\n",
    "    end=end_date\n",
    ").df\n",
    "portfolio_df"
   ]
  },
  {
   "cell_type": "code",
   "execution_count": 68,
   "metadata": {},
   "outputs": [
    {
     "data": {
      "text/plain": [
       "112.81"
      ]
     },
     "execution_count": 68,
     "metadata": {},
     "output_type": "execute_result"
    }
   ],
   "source": [
    "# Navigate portfolio_df and get AGG closing price\n",
    "agg_close_price = float(portfolio_df[\"AGG\"][\"close\"])\n",
    "agg_close_price"
   ]
  },
  {
   "cell_type": "code",
   "execution_count": 36,
   "metadata": {},
   "outputs": [],
   "source": [
    "# Set the tickers for both the bond and stock portion of the portfolio\n",
    "tickers = [\"SPY\", \"AGG\"]\n",
    "\n",
    "# Set timeframe to 1D \n",
    "timeframe = \"1D\"\n",
    "\n",
    "# Format current date as ISO format\n",
    "# Set both the start and end date at the date of your prior weekday \n",
    "# This will give you the closing price of the previous trading day\n",
    "# Alternatively you can use a start and end date of 2020-08-07\n",
    "\n",
    "start_date = pd.Timestamp(\"2022-01-06\", tz=\"America/New_York\").isoformat()\n",
    "end_date = pd.Timestamp(\"2022-01-06\", tz=\"America/New_York\").isoformat()\n"
   ]
  },
  {
   "cell_type": "code",
   "execution_count": 35,
   "metadata": {},
   "outputs": [
    {
     "data": {
      "text/plain": [
       "Timestamp('2022-01-06 12:23:08.140049')"
      ]
     },
     "execution_count": 35,
     "metadata": {},
     "output_type": "execute_result"
    }
   ],
   "source": [
    "# (pd.to_datetime(\"today\") - pd.DateOffset(days=1))."
   ]
  },
  {
   "cell_type": "code",
   "execution_count": 37,
   "metadata": {},
   "outputs": [
    {
     "data": {
      "text/html": [
       "<div>\n",
       "<style scoped>\n",
       "    .dataframe tbody tr th:only-of-type {\n",
       "        vertical-align: middle;\n",
       "    }\n",
       "\n",
       "    .dataframe tbody tr th {\n",
       "        vertical-align: top;\n",
       "    }\n",
       "\n",
       "    .dataframe thead tr th {\n",
       "        text-align: left;\n",
       "    }\n",
       "\n",
       "    .dataframe thead tr:last-of-type th {\n",
       "        text-align: right;\n",
       "    }\n",
       "</style>\n",
       "<table border=\"1\" class=\"dataframe\">\n",
       "  <thead>\n",
       "    <tr>\n",
       "      <th></th>\n",
       "      <th colspan=\"5\" halign=\"left\">AGG</th>\n",
       "      <th colspan=\"5\" halign=\"left\">SPY</th>\n",
       "    </tr>\n",
       "    <tr>\n",
       "      <th></th>\n",
       "      <th>open</th>\n",
       "      <th>high</th>\n",
       "      <th>low</th>\n",
       "      <th>close</th>\n",
       "      <th>volume</th>\n",
       "      <th>open</th>\n",
       "      <th>high</th>\n",
       "      <th>low</th>\n",
       "      <th>close</th>\n",
       "      <th>volume</th>\n",
       "    </tr>\n",
       "    <tr>\n",
       "      <th>time</th>\n",
       "      <th></th>\n",
       "      <th></th>\n",
       "      <th></th>\n",
       "      <th></th>\n",
       "      <th></th>\n",
       "      <th></th>\n",
       "      <th></th>\n",
       "      <th></th>\n",
       "      <th></th>\n",
       "      <th></th>\n",
       "    </tr>\n",
       "  </thead>\n",
       "  <tbody>\n",
       "    <tr>\n",
       "      <th>2022-01-06 00:00:00-05:00</th>\n",
       "      <td>112.75</td>\n",
       "      <td>112.84</td>\n",
       "      <td>112.66</td>\n",
       "      <td>112.81</td>\n",
       "      <td>6812819</td>\n",
       "      <td>467.89</td>\n",
       "      <td>470.82</td>\n",
       "      <td>465.43</td>\n",
       "      <td>467.93</td>\n",
       "      <td>78577470</td>\n",
       "    </tr>\n",
       "  </tbody>\n",
       "</table>\n",
       "</div>"
      ],
      "text/plain": [
       "                              AGG                                      SPY  \\\n",
       "                             open    high     low   close   volume    open   \n",
       "time                                                                         \n",
       "2022-01-06 00:00:00-05:00  112.75  112.84  112.66  112.81  6812819  467.89   \n",
       "\n",
       "                                                             \n",
       "                             high     low   close    volume  \n",
       "time                                                         \n",
       "2022-01-06 00:00:00-05:00  470.82  465.43  467.93  78577470  "
      ]
     },
     "execution_count": 37,
     "metadata": {},
     "output_type": "execute_result"
    }
   ],
   "source": [
    "# Use the Alpaca get_barset function to get current closing prices the portfolio\n",
    "# Be sure to set the `df` property after the function to format the response object as a DataFrame\n",
    "portfolio_df = alpaca.get_barset(\n",
    "    tickers,\n",
    "    timeframe,\n",
    "    start=start_date,\n",
    "    end=end_date\n",
    ").df\n",
    "\n",
    "# Review the first 5 rows of the Alpaca DataFrame\n",
    "\n",
    "\n",
    "portfolio_df.head()"
   ]
  },
  {
   "cell_type": "code",
   "execution_count": 41,
   "metadata": {},
   "outputs": [
    {
     "name": "stdout",
     "output_type": "stream",
     "text": [
      "\n",
      "The AGG closing price on 2022-01-06T00:00:00-05:00 is \n",
      "time\n",
      "2022-01-06 00:00:00-05:00    112.81\n",
      "Name: close, dtype: float64\n"
     ]
    }
   ],
   "source": [
    "# Access the closing price for AGG from the Alpaca DataFrame\n",
    "# Converting the value to a floating point number\n",
    "agg_close_price = portfolio_df[\"AGG\"][\"close\"]\n",
    "\n",
    "print(f\"\\nThe AGG closing price on {start_date} is \\n{agg_close_price}\")"
   ]
  },
  {
   "cell_type": "code",
   "execution_count": 42,
   "metadata": {},
   "outputs": [
    {
     "name": "stdout",
     "output_type": "stream",
     "text": [
      "\n",
      "The SPY closing price on 2022-01-06T00:00:00-05:00 is \n",
      "time\n",
      "2022-01-06 00:00:00-05:00    467.93\n",
      "Name: close, dtype: float64\n"
     ]
    }
   ],
   "source": [
    "# Access the closing price for SPY from the Alpaca DataFrame\n",
    "# Converting the value to a floating point number\n",
    "spy_close_price = portfolio_df[\"SPY\"][\"close\"]\n",
    "\n",
    "print(f\"\\nThe SPY closing price on {start_date} is \\n{spy_close_price}\")"
   ]
  },
  {
   "cell_type": "code",
   "execution_count": 69,
   "metadata": {},
   "outputs": [
    {
     "data": {
      "text/plain": [
       "22562.0"
      ]
     },
     "execution_count": 69,
     "metadata": {},
     "output_type": "execute_result"
    }
   ],
   "source": [
    "# Calculate the current value of the bond portion of the portfolio\n",
    "agg_value = agg_shares * agg_close_price\n",
    "\n",
    "# Print the current value of the bond portfolio\n",
    "agg_value"
   ]
  },
  {
   "cell_type": "code",
   "execution_count": 70,
   "metadata": {},
   "outputs": [
    {
     "data": {
      "text/plain": [
       "467.93"
      ]
     },
     "execution_count": 70,
     "metadata": {},
     "output_type": "execute_result"
    }
   ],
   "source": [
    "# Navigate portfolio_df and get SPY closing price\n",
    "spy_close_price = float(portfolio_df[\"SPY\"][\"close\"])\n",
    "spy_close_price"
   ]
  },
  {
   "cell_type": "code",
   "execution_count": 71,
   "metadata": {},
   "outputs": [
    {
     "data": {
      "text/plain": [
       "51472.3"
      ]
     },
     "execution_count": 71,
     "metadata": {},
     "output_type": "execute_result"
    }
   ],
   "source": [
    "# Calculate the current value of the stock portion of the portfolio\n",
    "spy_value = spy_shares * spy_close_price\n",
    "\n",
    "# Print the current value of the stock portfolio\n",
    "spy_value"
   ]
  },
  {
   "cell_type": "code",
   "execution_count": 72,
   "metadata": {},
   "outputs": [
    {
     "name": "stdout",
     "output_type": "stream",
     "text": [
      "\n",
      "The Holding value in your Stocks and Bonds Portfolio wallet is: \n",
      "$74034.3\n",
      "\n"
     ]
    }
   ],
   "source": [
    "# Calculate the total value of the stock and bond portion of the portfolio\n",
    "total_stocks_bonds = agg_value + spy_value \n",
    "\n",
    "# Print the current balance of the stock and bond portion of the portfolio\n",
    "print(f\"\\nThe Holding value in your Stocks and Bonds Portfolio wallet is: \\n${total_stocks_bonds}\\n\")"
   ]
  },
  {
   "cell_type": "markdown",
   "metadata": {},
   "source": [
    "## Calculate Total Value of Portfolio"
   ]
  },
  {
   "cell_type": "code",
   "execution_count": 79,
   "metadata": {},
   "outputs": [
    {
     "name": "stdout",
     "output_type": "stream",
     "text": [
      "\n",
      "Total Portfolio Value is (cryto wallet + stocks + bonds) : \n",
      "$140777.13\n",
      "\n"
     ]
    }
   ],
   "source": [
    "# Calculate the total value of the member's entire savings portfolio\n",
    "# Add the value of the cryptocurrency walled to the value of the total stocks and bonds\n",
    "\n",
    "total_portfolio = total_crypto_wallet + total_stocks_bonds\n",
    "\n",
    "total_portfolio\n",
    "print(f\"\\nTotal Portfolio Value is (cryto wallet + stocks + bonds) : \\n${total_portfolio:.2f}\\n\")"
   ]
  },
  {
   "cell_type": "markdown",
   "metadata": {},
   "source": [
    "### Evaluate the Emergency Fund\n",
    "\n",
    "We’ll use the valuations for the cryptocurrency wallet and for the stock and bond portions of the portfolio to determine if the credit union member has enough savings to build an emergency fund into their financial plan. \n",
    "\n",
    "1. A Python list named `savings_data`  is created that contains the total value of the cryptocurrency wallets and total value of the stock and bond portions of the portfolio.\n",
    "\n",
    "2. The `savings_data` list is used to create a Pandas DataFrame named `savings_df` with the following three parameters:\n",
    "\n",
    "    - `savings_data`: The list that holds valuations od cryptocurry wallet and stocks/bonds portfolio.\n",
    "\n",
    "    - `columns`: We set this as `amount`.\n",
    "\n",
    "    - `index`: We set this to a Python list with the values of `crypto` and `stock/bond`.\n",
    "\n",
    "3. Using `savings_df` DataFrame we plot a pie chart that visualizes the composition of the member’s portfolio. The y-axis of the pie chart uses `amount`.\n",
    "\n",
    "4. We determine if the current portfolio has enough to create an emergency fund as part of the member’s financial plan. Ideally, an emergency fund should equal to three times the member’s monthly income.\n",
    "\n",
    "    1. A variable named `emergency_fund_value` is created and set to three times the value of the member’s `monthly_income` of $12000.\n",
    "\n",
    "    2. We use a series of three if statements to determine if the member’s total portfolio is large enough to fund the emergency portfolio:\n",
    "\n",
    "        1. If the total portfolio value is greater than the emergency fund value, a message congratulating the member for having enough money in this fund is displayed.\n",
    "\n",
    "        2. Else if the total portfolio value is equal to the emergency fund value, a message congratulating the member on reaching this important financial goal is displayed.\n",
    "\n",
    "        3. Else the total portfolio is less than the emergency fund value, a message showing how many dollars away the member is from reaching the goal is displayed.\n"
   ]
  },
  {
   "cell_type": "code",
   "execution_count": 104,
   "metadata": {},
   "outputs": [
    {
     "name": "stdout",
     "output_type": "stream",
     "text": [
      "\n",
      "The portfolio saving data value is :\n"
     ]
    },
    {
     "data": {
      "text/plain": [
       "[66742.832, 74034.3]"
      ]
     },
     "execution_count": 104,
     "metadata": {},
     "output_type": "execute_result"
    }
   ],
   "source": [
    "# Consolidate financial assets data into a Python list\n",
    "savings_data = [total_crypto_wallet,total_stocks_bonds]\n",
    "\n",
    "\n",
    "print(\"\\nThe portfolio saving data value is :\")\n",
    "savings_data\n",
    "    "
   ]
  },
  {
   "cell_type": "markdown",
   "metadata": {},
   "source": [
    "####  A Pandas DataFrame named `savings_df` is created using `savings_data` list "
   ]
  },
  {
   "cell_type": "code",
   "execution_count": 103,
   "metadata": {},
   "outputs": [
    {
     "name": "stdout",
     "output_type": "stream",
     "text": [
      "\n",
      "Savings Dataframe : \n"
     ]
    },
    {
     "data": {
      "text/html": [
       "<div>\n",
       "<style scoped>\n",
       "    .dataframe tbody tr th:only-of-type {\n",
       "        vertical-align: middle;\n",
       "    }\n",
       "\n",
       "    .dataframe tbody tr th {\n",
       "        vertical-align: top;\n",
       "    }\n",
       "\n",
       "    .dataframe thead th {\n",
       "        text-align: right;\n",
       "    }\n",
       "</style>\n",
       "<table border=\"1\" class=\"dataframe\">\n",
       "  <thead>\n",
       "    <tr style=\"text-align: right;\">\n",
       "      <th></th>\n",
       "      <th>amount</th>\n",
       "    </tr>\n",
       "  </thead>\n",
       "  <tbody>\n",
       "    <tr>\n",
       "      <th>crypto</th>\n",
       "      <td>66742.832</td>\n",
       "    </tr>\n",
       "    <tr>\n",
       "      <th>stock/bond</th>\n",
       "      <td>74034.300</td>\n",
       "    </tr>\n",
       "  </tbody>\n",
       "</table>\n",
       "</div>"
      ],
      "text/plain": [
       "               amount\n",
       "crypto      66742.832\n",
       "stock/bond  74034.300"
      ]
     },
     "execution_count": 103,
     "metadata": {},
     "output_type": "execute_result"
    }
   ],
   "source": [
    "savings_df = pd.DataFrame(savings_data,\n",
    "                         columns=[\"amount\"],\n",
    "                         index=[\"crypto\",\"stock/bond\"])\n",
    "\n",
    "print(\"\\nSavings Dataframe : \")\n",
    "savings_df\n"
   ]
  },
  {
   "cell_type": "markdown",
   "metadata": {},
   "source": [
    "#### Pie Chart plot of the savings Dataframe"
   ]
  },
  {
   "cell_type": "code",
   "execution_count": 102,
   "metadata": {},
   "outputs": [
    {
     "data": {
      "text/plain": [
       "<AxesSubplot:title={'center':'Crppto and Stock/Bond pie chart for the Portfolio'}, ylabel='amount'>"
      ]
     },
     "execution_count": 102,
     "metadata": {},
     "output_type": "execute_result"
    },
    {
     "data": {
      "image/png": "[encoded data removed]",
      "text/plain": [
       "<Figure size 432x288 with 1 Axes>"
      ]
     },
     "metadata": {},
     "output_type": "display_data"
    }
   ],
   "source": [
    "savings_df.plot.pie(title=\"Crppto and Stock/Bond pie chart for the Portfolio\",\n",
    "                   y=\"amount\",\n",
    "                   )"
   ]
  },
  {
   "cell_type": "markdown",
   "metadata": {},
   "source": [
    "#### Determining if the current portfolio has enough to create an emergency fund as part of the member’s financial plan"
   ]
  },
  {
   "cell_type": "code",
   "execution_count": 105,
   "metadata": {},
   "outputs": [],
   "source": [
    "# A variable named emergency_fund_value is created.\n",
    "\n",
    "emergency_fund_value = 3 * monthly_income"
   ]
  },
  {
   "cell_type": "code",
   "execution_count": 107,
   "metadata": {},
   "outputs": [
    {
     "name": "stdout",
     "output_type": "stream",
     "text": [
      "\n",
      "Congratulations! You have enough funds in your portfolio for emergencies\n"
     ]
    }
   ],
   "source": [
    "# Evaluate the possibility of creating an emergency fund with 3 conditions:\n",
    "\n",
    "if total_portfolio > emergency_fund_value:\n",
    "    print(\"\\nCongratulations! You have enough funds in your portfolio for emergencies\")\n",
    "elif total_portfolio == emergency_fund_value:\n",
    "    print(\"\\nCongratulations! You just met the goal of having enough emergency fund in your Portfolio\")\n",
    "else:\n",
    "    print(f\"\\nYour Portfolio does not have enough emergency fund. You still need ${emergency_fund_value - total_portfolio} to meet your emergency fund goal.\")\n"
   ]
  },
  {
   "cell_type": "markdown",
   "metadata": {},
   "source": [
    "## Part 2: Financial Planner for Retirement"
   ]
  },
  {
   "cell_type": "markdown",
   "metadata": {},
   "source": [
    "### Create the Monte Carlo Simulation\n",
    "\n",
    "In this section, we’ll use the MCForecastTools library to create a Monte Carlo simulation for the member’s savings portfolio. The steps are:\n",
    "\n",
    "1. An API call via the Alpaca SDK is made to get 3 years of historical closing prices for a traditional 60/40 portfolio split: 60% stocks (SPY) and 40% bonds (AGG).\n",
    "\n",
    "2. We run a Monte Carlo simulation of 500 samples and 30 years for the 60/40 portfolio, and the results are plottted.\n",
    "\n",
    "3. We plot the probability distribution of the Monte Carlo simulation.\n",
    "\n",
    "4. We generate the summary statistics for the Monte Carlo simulation.\n",
    "\n"
   ]
  },
  {
   "cell_type": "markdown",
   "metadata": {},
   "source": [
    "#### API call to the Alpaca SDK to get 3 years of historical closing prices for SPY and AGG."
   ]
  },
  {
   "cell_type": "code",
   "execution_count": 108,
   "metadata": {},
   "outputs": [],
   "source": [
    "# start_date is set to 3 years back from your current date(end_date)\n",
    "# We use the end_date as \"2022-01-06\" which was set in part-1.\n",
    "\n",
    "start_date = start_date = pd.Timestamp(\"2019-01-06\" , tz=\"America/New_York\").isoformat()\n",
    "\n",
    "# the maximum amount of rows\n",
    "limit_rows =1000"
   ]
  },
  {
   "cell_type": "code",
   "execution_count": 138,
   "metadata": {},
   "outputs": [
    {
     "data": {
      "text/html": [
       "<div>\n",
       "<style scoped>\n",
       "    .dataframe tbody tr th:only-of-type {\n",
       "        vertical-align: middle;\n",
       "    }\n",
       "\n",
       "    .dataframe tbody tr th {\n",
       "        vertical-align: top;\n",
       "    }\n",
       "\n",
       "    .dataframe thead tr th {\n",
       "        text-align: left;\n",
       "    }\n",
       "\n",
       "    .dataframe thead tr:last-of-type th {\n",
       "        text-align: right;\n",
       "    }\n",
       "</style>\n",
       "<table border=\"1\" class=\"dataframe\">\n",
       "  <thead>\n",
       "    <tr>\n",
       "      <th></th>\n",
       "      <th colspan=\"5\" halign=\"left\">AGG</th>\n",
       "      <th colspan=\"5\" halign=\"left\">SPY</th>\n",
       "    </tr>\n",
       "    <tr>\n",
       "      <th></th>\n",
       "      <th>open</th>\n",
       "      <th>high</th>\n",
       "      <th>low</th>\n",
       "      <th>close</th>\n",
       "      <th>volume</th>\n",
       "      <th>open</th>\n",
       "      <th>high</th>\n",
       "      <th>low</th>\n",
       "      <th>close</th>\n",
       "      <th>volume</th>\n",
       "    </tr>\n",
       "    <tr>\n",
       "      <th>time</th>\n",
       "      <th></th>\n",
       "      <th></th>\n",
       "      <th></th>\n",
       "      <th></th>\n",
       "      <th></th>\n",
       "      <th></th>\n",
       "      <th></th>\n",
       "      <th></th>\n",
       "      <th></th>\n",
       "      <th></th>\n",
       "    </tr>\n",
       "  </thead>\n",
       "  <tbody>\n",
       "    <tr>\n",
       "      <th>2019-01-07 00:00:00-05:00</th>\n",
       "      <td>106.72</td>\n",
       "      <td>106.79</td>\n",
       "      <td>106.46</td>\n",
       "      <td>106.470</td>\n",
       "      <td>6545877.0</td>\n",
       "      <td>252.69</td>\n",
       "      <td>255.9500</td>\n",
       "      <td>251.69</td>\n",
       "      <td>254.40</td>\n",
       "      <td>88317608</td>\n",
       "    </tr>\n",
       "    <tr>\n",
       "      <th>2019-01-08 00:00:00-05:00</th>\n",
       "      <td>106.40</td>\n",
       "      <td>106.53</td>\n",
       "      <td>105.53</td>\n",
       "      <td>106.420</td>\n",
       "      <td>3818241.0</td>\n",
       "      <td>256.82</td>\n",
       "      <td>257.3100</td>\n",
       "      <td>254.00</td>\n",
       "      <td>256.65</td>\n",
       "      <td>88864452</td>\n",
       "    </tr>\n",
       "    <tr>\n",
       "      <th>2019-01-09 00:00:00-05:00</th>\n",
       "      <td>106.42</td>\n",
       "      <td>106.57</td>\n",
       "      <td>105.95</td>\n",
       "      <td>106.480</td>\n",
       "      <td>5163839.0</td>\n",
       "      <td>257.56</td>\n",
       "      <td>258.9100</td>\n",
       "      <td>241.40</td>\n",
       "      <td>257.71</td>\n",
       "      <td>77555720</td>\n",
       "    </tr>\n",
       "    <tr>\n",
       "      <th>2019-01-10 00:00:00-05:00</th>\n",
       "      <td>106.52</td>\n",
       "      <td>106.56</td>\n",
       "      <td>106.33</td>\n",
       "      <td>106.385</td>\n",
       "      <td>3441214.0</td>\n",
       "      <td>256.26</td>\n",
       "      <td>259.1600</td>\n",
       "      <td>255.50</td>\n",
       "      <td>258.94</td>\n",
       "      <td>85909797</td>\n",
       "    </tr>\n",
       "    <tr>\n",
       "      <th>2019-01-11 00:00:00-05:00</th>\n",
       "      <td>106.58</td>\n",
       "      <td>106.66</td>\n",
       "      <td>106.50</td>\n",
       "      <td>106.560</td>\n",
       "      <td>5638395.0</td>\n",
       "      <td>257.68</td>\n",
       "      <td>259.0098</td>\n",
       "      <td>257.03</td>\n",
       "      <td>258.76</td>\n",
       "      <td>60544770</td>\n",
       "    </tr>\n",
       "  </tbody>\n",
       "</table>\n",
       "</div>"
      ],
      "text/plain": [
       "                              AGG                                         SPY  \\\n",
       "                             open    high     low    close     volume    open   \n",
       "time                                                                            \n",
       "2019-01-07 00:00:00-05:00  106.72  106.79  106.46  106.470  6545877.0  252.69   \n",
       "2019-01-08 00:00:00-05:00  106.40  106.53  105.53  106.420  3818241.0  256.82   \n",
       "2019-01-09 00:00:00-05:00  106.42  106.57  105.95  106.480  5163839.0  257.56   \n",
       "2019-01-10 00:00:00-05:00  106.52  106.56  106.33  106.385  3441214.0  256.26   \n",
       "2019-01-11 00:00:00-05:00  106.58  106.66  106.50  106.560  5638395.0  257.68   \n",
       "\n",
       "                                                               \n",
       "                               high     low   close    volume  \n",
       "time                                                           \n",
       "2019-01-07 00:00:00-05:00  255.9500  251.69  254.40  88317608  \n",
       "2019-01-08 00:00:00-05:00  257.3100  254.00  256.65  88864452  \n",
       "2019-01-09 00:00:00-05:00  258.9100  241.40  257.71  77555720  \n",
       "2019-01-10 00:00:00-05:00  259.1600  255.50  258.94  85909797  \n",
       "2019-01-11 00:00:00-05:00  259.0098  257.03  258.76  60544770  "
      ]
     },
     "metadata": {},
     "output_type": "display_data"
    },
    {
     "data": {
      "text/html": [
       "<div>\n",
       "<style scoped>\n",
       "    .dataframe tbody tr th:only-of-type {\n",
       "        vertical-align: middle;\n",
       "    }\n",
       "\n",
       "    .dataframe tbody tr th {\n",
       "        vertical-align: top;\n",
       "    }\n",
       "\n",
       "    .dataframe thead tr th {\n",
       "        text-align: left;\n",
       "    }\n",
       "\n",
       "    .dataframe thead tr:last-of-type th {\n",
       "        text-align: right;\n",
       "    }\n",
       "</style>\n",
       "<table border=\"1\" class=\"dataframe\">\n",
       "  <thead>\n",
       "    <tr>\n",
       "      <th></th>\n",
       "      <th colspan=\"5\" halign=\"left\">AGG</th>\n",
       "      <th colspan=\"5\" halign=\"left\">SPY</th>\n",
       "    </tr>\n",
       "    <tr>\n",
       "      <th></th>\n",
       "      <th>open</th>\n",
       "      <th>high</th>\n",
       "      <th>low</th>\n",
       "      <th>close</th>\n",
       "      <th>volume</th>\n",
       "      <th>open</th>\n",
       "      <th>high</th>\n",
       "      <th>low</th>\n",
       "      <th>close</th>\n",
       "      <th>volume</th>\n",
       "    </tr>\n",
       "    <tr>\n",
       "      <th>time</th>\n",
       "      <th></th>\n",
       "      <th></th>\n",
       "      <th></th>\n",
       "      <th></th>\n",
       "      <th></th>\n",
       "      <th></th>\n",
       "      <th></th>\n",
       "      <th></th>\n",
       "      <th></th>\n",
       "      <th></th>\n",
       "    </tr>\n",
       "  </thead>\n",
       "  <tbody>\n",
       "    <tr>\n",
       "      <th>2021-12-31 00:00:00-05:00</th>\n",
       "      <td>114.15</td>\n",
       "      <td>114.3100</td>\n",
       "      <td>114.060</td>\n",
       "      <td>114.09</td>\n",
       "      <td>6557778.0</td>\n",
       "      <td>475.64</td>\n",
       "      <td>476.86</td>\n",
       "      <td>474.6700</td>\n",
       "      <td>474.89</td>\n",
       "      <td>51212452</td>\n",
       "    </tr>\n",
       "    <tr>\n",
       "      <th>2022-01-03 00:00:00-05:00</th>\n",
       "      <td>113.67</td>\n",
       "      <td>113.6753</td>\n",
       "      <td>113.310</td>\n",
       "      <td>113.31</td>\n",
       "      <td>8906643.0</td>\n",
       "      <td>476.32</td>\n",
       "      <td>477.85</td>\n",
       "      <td>473.8500</td>\n",
       "      <td>477.76</td>\n",
       "      <td>56128214</td>\n",
       "    </tr>\n",
       "    <tr>\n",
       "      <th>2022-01-04 00:00:00-05:00</th>\n",
       "      <td>113.22</td>\n",
       "      <td>113.3000</td>\n",
       "      <td>113.075</td>\n",
       "      <td>113.29</td>\n",
       "      <td>7615698.0</td>\n",
       "      <td>479.22</td>\n",
       "      <td>479.98</td>\n",
       "      <td>475.5800</td>\n",
       "      <td>477.51</td>\n",
       "      <td>59093344</td>\n",
       "    </tr>\n",
       "    <tr>\n",
       "      <th>2022-01-05 00:00:00-05:00</th>\n",
       "      <td>113.34</td>\n",
       "      <td>113.3600</td>\n",
       "      <td>112.900</td>\n",
       "      <td>112.93</td>\n",
       "      <td>7686662.0</td>\n",
       "      <td>477.16</td>\n",
       "      <td>477.98</td>\n",
       "      <td>468.2801</td>\n",
       "      <td>468.38</td>\n",
       "      <td>87411658</td>\n",
       "    </tr>\n",
       "    <tr>\n",
       "      <th>2022-01-06 00:00:00-05:00</th>\n",
       "      <td>112.75</td>\n",
       "      <td>112.8400</td>\n",
       "      <td>112.660</td>\n",
       "      <td>112.81</td>\n",
       "      <td>6812819.0</td>\n",
       "      <td>467.89</td>\n",
       "      <td>470.82</td>\n",
       "      <td>465.4300</td>\n",
       "      <td>467.93</td>\n",
       "      <td>78577470</td>\n",
       "    </tr>\n",
       "  </tbody>\n",
       "</table>\n",
       "</div>"
      ],
      "text/plain": [
       "                              AGG                                        \\\n",
       "                             open      high      low   close     volume   \n",
       "time                                                                      \n",
       "2021-12-31 00:00:00-05:00  114.15  114.3100  114.060  114.09  6557778.0   \n",
       "2022-01-03 00:00:00-05:00  113.67  113.6753  113.310  113.31  8906643.0   \n",
       "2022-01-04 00:00:00-05:00  113.22  113.3000  113.075  113.29  7615698.0   \n",
       "2022-01-05 00:00:00-05:00  113.34  113.3600  112.900  112.93  7686662.0   \n",
       "2022-01-06 00:00:00-05:00  112.75  112.8400  112.660  112.81  6812819.0   \n",
       "\n",
       "                              SPY                                      \n",
       "                             open    high       low   close    volume  \n",
       "time                                                                   \n",
       "2021-12-31 00:00:00-05:00  475.64  476.86  474.6700  474.89  51212452  \n",
       "2022-01-03 00:00:00-05:00  476.32  477.85  473.8500  477.76  56128214  \n",
       "2022-01-04 00:00:00-05:00  479.22  479.98  475.5800  477.51  59093344  \n",
       "2022-01-05 00:00:00-05:00  477.16  477.98  468.2801  468.38  87411658  \n",
       "2022-01-06 00:00:00-05:00  467.89  470.82  465.4300  467.93  78577470  "
      ]
     },
     "metadata": {},
     "output_type": "display_data"
    }
   ],
   "source": [
    "# The Alpaca get_barset function is used to get the 3 years worth of pricing data\n",
    "# The tickers and timeframe parameters have been set in Part 1 of this activity \n",
    "# - tickers = [\"AGG\", \"SPY\"]\n",
    "# - timeframe = \"1D\"\n",
    "\n",
    "portfolio_3_year_prices_df = alpaca.get_barset(\n",
    "  tickers,\n",
    "  timeframe,\n",
    "  start=start_date,\n",
    "  end=end_date,\n",
    "  limit=limit_rows\n",
    ").df\n",
    "\n",
    "\n",
    "# Displaying both the first and last five rows of the DataFrame\n",
    "display(portfolio_3_year_prices_df.head())\n",
    "display(portfolio_3_year_prices_df.tail())\n"
   ]
  },
  {
   "cell_type": "markdown",
   "metadata": {},
   "source": [
    "####  Monte Carlo simulation run."
   ]
  },
  {
   "cell_type": "code",
   "execution_count": 139,
   "metadata": {},
   "outputs": [
    {
     "data": {
      "text/html": [
       "<div>\n",
       "<style scoped>\n",
       "    .dataframe tbody tr th:only-of-type {\n",
       "        vertical-align: middle;\n",
       "    }\n",
       "\n",
       "    .dataframe tbody tr th {\n",
       "        vertical-align: top;\n",
       "    }\n",
       "\n",
       "    .dataframe thead tr th {\n",
       "        text-align: left;\n",
       "    }\n",
       "\n",
       "    .dataframe thead tr:last-of-type th {\n",
       "        text-align: right;\n",
       "    }\n",
       "</style>\n",
       "<table border=\"1\" class=\"dataframe\">\n",
       "  <thead>\n",
       "    <tr>\n",
       "      <th></th>\n",
       "      <th colspan=\"6\" halign=\"left\">AGG</th>\n",
       "      <th colspan=\"6\" halign=\"left\">SPY</th>\n",
       "    </tr>\n",
       "    <tr>\n",
       "      <th></th>\n",
       "      <th>open</th>\n",
       "      <th>high</th>\n",
       "      <th>low</th>\n",
       "      <th>close</th>\n",
       "      <th>volume</th>\n",
       "      <th>daily_return</th>\n",
       "      <th>open</th>\n",
       "      <th>high</th>\n",
       "      <th>low</th>\n",
       "      <th>close</th>\n",
       "      <th>volume</th>\n",
       "      <th>daily_return</th>\n",
       "    </tr>\n",
       "    <tr>\n",
       "      <th>time</th>\n",
       "      <th></th>\n",
       "      <th></th>\n",
       "      <th></th>\n",
       "      <th></th>\n",
       "      <th></th>\n",
       "      <th></th>\n",
       "      <th></th>\n",
       "      <th></th>\n",
       "      <th></th>\n",
       "      <th></th>\n",
       "      <th></th>\n",
       "      <th></th>\n",
       "    </tr>\n",
       "  </thead>\n",
       "  <tbody>\n",
       "    <tr>\n",
       "      <th>2019-01-07 00:00:00-05:00</th>\n",
       "      <td>106.72</td>\n",
       "      <td>106.79</td>\n",
       "      <td>106.46</td>\n",
       "      <td>106.470</td>\n",
       "      <td>6545877.0</td>\n",
       "      <td>NaN</td>\n",
       "      <td>252.69</td>\n",
       "      <td>255.9500</td>\n",
       "      <td>251.69</td>\n",
       "      <td>254.40</td>\n",
       "      <td>88317608</td>\n",
       "      <td>NaN</td>\n",
       "    </tr>\n",
       "    <tr>\n",
       "      <th>2019-01-08 00:00:00-05:00</th>\n",
       "      <td>106.40</td>\n",
       "      <td>106.53</td>\n",
       "      <td>105.53</td>\n",
       "      <td>106.420</td>\n",
       "      <td>3818241.0</td>\n",
       "      <td>-0.000470</td>\n",
       "      <td>256.82</td>\n",
       "      <td>257.3100</td>\n",
       "      <td>254.00</td>\n",
       "      <td>256.65</td>\n",
       "      <td>88864452</td>\n",
       "      <td>0.008844</td>\n",
       "    </tr>\n",
       "    <tr>\n",
       "      <th>2019-01-09 00:00:00-05:00</th>\n",
       "      <td>106.42</td>\n",
       "      <td>106.57</td>\n",
       "      <td>105.95</td>\n",
       "      <td>106.480</td>\n",
       "      <td>5163839.0</td>\n",
       "      <td>0.000564</td>\n",
       "      <td>257.56</td>\n",
       "      <td>258.9100</td>\n",
       "      <td>241.40</td>\n",
       "      <td>257.71</td>\n",
       "      <td>77555720</td>\n",
       "      <td>0.004130</td>\n",
       "    </tr>\n",
       "    <tr>\n",
       "      <th>2019-01-10 00:00:00-05:00</th>\n",
       "      <td>106.52</td>\n",
       "      <td>106.56</td>\n",
       "      <td>106.33</td>\n",
       "      <td>106.385</td>\n",
       "      <td>3441214.0</td>\n",
       "      <td>-0.000892</td>\n",
       "      <td>256.26</td>\n",
       "      <td>259.1600</td>\n",
       "      <td>255.50</td>\n",
       "      <td>258.94</td>\n",
       "      <td>85909797</td>\n",
       "      <td>0.004773</td>\n",
       "    </tr>\n",
       "    <tr>\n",
       "      <th>2019-01-11 00:00:00-05:00</th>\n",
       "      <td>106.58</td>\n",
       "      <td>106.66</td>\n",
       "      <td>106.50</td>\n",
       "      <td>106.560</td>\n",
       "      <td>5638395.0</td>\n",
       "      <td>0.001645</td>\n",
       "      <td>257.68</td>\n",
       "      <td>259.0098</td>\n",
       "      <td>257.03</td>\n",
       "      <td>258.76</td>\n",
       "      <td>60544770</td>\n",
       "      <td>-0.000695</td>\n",
       "    </tr>\n",
       "  </tbody>\n",
       "</table>\n",
       "</div>"
      ],
      "text/plain": [
       "                              AGG                                      \\\n",
       "                             open    high     low    close     volume   \n",
       "time                                                                    \n",
       "2019-01-07 00:00:00-05:00  106.72  106.79  106.46  106.470  6545877.0   \n",
       "2019-01-08 00:00:00-05:00  106.40  106.53  105.53  106.420  3818241.0   \n",
       "2019-01-09 00:00:00-05:00  106.42  106.57  105.95  106.480  5163839.0   \n",
       "2019-01-10 00:00:00-05:00  106.52  106.56  106.33  106.385  3441214.0   \n",
       "2019-01-11 00:00:00-05:00  106.58  106.66  106.50  106.560  5638395.0   \n",
       "\n",
       "                                           SPY                            \\\n",
       "                          daily_return    open      high     low   close   \n",
       "time                                                                       \n",
       "2019-01-07 00:00:00-05:00          NaN  252.69  255.9500  251.69  254.40   \n",
       "2019-01-08 00:00:00-05:00    -0.000470  256.82  257.3100  254.00  256.65   \n",
       "2019-01-09 00:00:00-05:00     0.000564  257.56  258.9100  241.40  257.71   \n",
       "2019-01-10 00:00:00-05:00    -0.000892  256.26  259.1600  255.50  258.94   \n",
       "2019-01-11 00:00:00-05:00     0.001645  257.68  259.0098  257.03  258.76   \n",
       "\n",
       "                                                  \n",
       "                             volume daily_return  \n",
       "time                                              \n",
       "2019-01-07 00:00:00-05:00  88317608          NaN  \n",
       "2019-01-08 00:00:00-05:00  88864452     0.008844  \n",
       "2019-01-09 00:00:00-05:00  77555720     0.004130  \n",
       "2019-01-10 00:00:00-05:00  85909797     0.004773  \n",
       "2019-01-11 00:00:00-05:00  60544770    -0.000695  "
      ]
     },
     "execution_count": 139,
     "metadata": {},
     "output_type": "execute_result"
    }
   ],
   "source": [
    "# The Monte Carlo simulation is configured to forecast 30 years cumulative returns\n",
    "# The weights split are 40% to AGG and 60% to SPY.\n",
    "# We run 500 samples.\n",
    "\n",
    "MC_30_Year_Simulation = MCSimulation(\n",
    "    portfolio_data = portfolio_3_year_prices_df,\n",
    "    weights = [.40,.60],\n",
    "    num_simulation = 500,\n",
    "    num_trading_days = 252 * 30\n",
    ")\n",
    "\n",
    "# The simulation input data\n",
    "MC_30_Year_Simulation.portfolio_data.head()"
   ]
  },
  {
   "cell_type": "code",
   "execution_count": 140,
   "metadata": {},
   "outputs": [
    {
     "name": "stdout",
     "output_type": "stream",
     "text": [
      "Running Monte Carlo simulation number 0.\n",
      "Running Monte Carlo simulation number 10.\n",
      "Running Monte Carlo simulation number 20.\n",
      "Running Monte Carlo simulation number 30.\n",
      "Running Monte Carlo simulation number 40.\n",
      "Running Monte Carlo simulation number 50.\n",
      "Running Monte Carlo simulation number 60.\n",
      "Running Monte Carlo simulation number 70.\n",
      "Running Monte Carlo simulation number 80.\n",
      "Running Monte Carlo simulation number 90.\n",
      "Running Monte Carlo simulation number 100.\n"
     ]
    },
    {
     "name": "stderr",
     "output_type": "stream",
     "text": [
      "/Users/rupika/bootcamp/FinTech_Workspace/Week5/module_5_challenge/Plan_Your_Finance/MCForecastTools.py:117: PerformanceWarning: DataFrame is highly fragmented.  This is usually the result of calling `frame.insert` many times, which has poor performance.  Consider joining all columns at once using pd.concat(axis=1) instead.  To get a de-fragmented frame, use `newframe = frame.copy()`\n",
      "  portfolio_cumulative_returns[n] = (1 + sim_df.fillna(0)).cumprod()\n"
     ]
    },
    {
     "name": "stdout",
     "output_type": "stream",
     "text": [
      "Running Monte Carlo simulation number 110.\n",
      "Running Monte Carlo simulation number 120.\n",
      "Running Monte Carlo simulation number 130.\n",
      "Running Monte Carlo simulation number 140.\n",
      "Running Monte Carlo simulation number 150.\n",
      "Running Monte Carlo simulation number 160.\n",
      "Running Monte Carlo simulation number 170.\n",
      "Running Monte Carlo simulation number 180.\n",
      "Running Monte Carlo simulation number 190.\n",
      "Running Monte Carlo simulation number 200.\n",
      "Running Monte Carlo simulation number 210.\n",
      "Running Monte Carlo simulation number 220.\n",
      "Running Monte Carlo simulation number 230.\n",
      "Running Monte Carlo simulation number 240.\n",
      "Running Monte Carlo simulation number 250.\n",
      "Running Monte Carlo simulation number 260.\n",
      "Running Monte Carlo simulation number 270.\n",
      "Running Monte Carlo simulation number 280.\n",
      "Running Monte Carlo simulation number 290.\n",
      "Running Monte Carlo simulation number 300.\n",
      "Running Monte Carlo simulation number 310.\n",
      "Running Monte Carlo simulation number 320.\n",
      "Running Monte Carlo simulation number 330.\n",
      "Running Monte Carlo simulation number 340.\n",
      "Running Monte Carlo simulation number 350.\n",
      "Running Monte Carlo simulation number 360.\n",
      "Running Monte Carlo simulation number 370.\n",
      "Running Monte Carlo simulation number 380.\n",
      "Running Monte Carlo simulation number 390.\n",
      "Running Monte Carlo simulation number 400.\n",
      "Running Monte Carlo simulation number 410.\n",
      "Running Monte Carlo simulation number 420.\n",
      "Running Monte Carlo simulation number 430.\n",
      "Running Monte Carlo simulation number 440.\n",
      "Running Monte Carlo simulation number 450.\n",
      "Running Monte Carlo simulation number 460.\n",
      "Running Monte Carlo simulation number 470.\n",
      "Running Monte Carlo simulation number 480.\n",
      "Running Monte Carlo simulation number 490.\n"
     ]
    },
    {
     "data": {
      "text/html": [
       "<div>\n",
       "<style scoped>\n",
       "    .dataframe tbody tr th:only-of-type {\n",
       "        vertical-align: middle;\n",
       "    }\n",
       "\n",
       "    .dataframe tbody tr th {\n",
       "        vertical-align: top;\n",
       "    }\n",
       "\n",
       "    .dataframe thead th {\n",
       "        text-align: right;\n",
       "    }\n",
       "</style>\n",
       "<table border=\"1\" class=\"dataframe\">\n",
       "  <thead>\n",
       "    <tr style=\"text-align: right;\">\n",
       "      <th></th>\n",
       "      <th>0</th>\n",
       "      <th>1</th>\n",
       "      <th>2</th>\n",
       "      <th>3</th>\n",
       "      <th>4</th>\n",
       "      <th>5</th>\n",
       "      <th>6</th>\n",
       "      <th>7</th>\n",
       "      <th>8</th>\n",
       "      <th>9</th>\n",
       "      <th>...</th>\n",
       "      <th>490</th>\n",
       "      <th>491</th>\n",
       "      <th>492</th>\n",
       "      <th>493</th>\n",
       "      <th>494</th>\n",
       "      <th>495</th>\n",
       "      <th>496</th>\n",
       "      <th>497</th>\n",
       "      <th>498</th>\n",
       "      <th>499</th>\n",
       "    </tr>\n",
       "  </thead>\n",
       "  <tbody>\n",
       "    <tr>\n",
       "      <th>0</th>\n",
       "      <td>1.000000</td>\n",
       "      <td>1.000000</td>\n",
       "      <td>1.000000</td>\n",
       "      <td>1.000000</td>\n",
       "      <td>1.000000</td>\n",
       "      <td>1.000000</td>\n",
       "      <td>1.000000</td>\n",
       "      <td>1.000000</td>\n",
       "      <td>1.000000</td>\n",
       "      <td>1.000000</td>\n",
       "      <td>...</td>\n",
       "      <td>1.000000</td>\n",
       "      <td>1.000000</td>\n",
       "      <td>1.000000</td>\n",
       "      <td>1.000000</td>\n",
       "      <td>1.000000</td>\n",
       "      <td>1.000000</td>\n",
       "      <td>1.000000</td>\n",
       "      <td>1.000000</td>\n",
       "      <td>1.000000</td>\n",
       "      <td>1.000000</td>\n",
       "    </tr>\n",
       "    <tr>\n",
       "      <th>1</th>\n",
       "      <td>0.997447</td>\n",
       "      <td>0.993584</td>\n",
       "      <td>0.984785</td>\n",
       "      <td>0.998505</td>\n",
       "      <td>0.987182</td>\n",
       "      <td>0.995633</td>\n",
       "      <td>1.017714</td>\n",
       "      <td>1.027063</td>\n",
       "      <td>1.005765</td>\n",
       "      <td>0.996339</td>\n",
       "      <td>...</td>\n",
       "      <td>0.995583</td>\n",
       "      <td>0.994502</td>\n",
       "      <td>1.004296</td>\n",
       "      <td>0.989801</td>\n",
       "      <td>1.002496</td>\n",
       "      <td>1.014051</td>\n",
       "      <td>1.001213</td>\n",
       "      <td>0.989123</td>\n",
       "      <td>0.996643</td>\n",
       "      <td>1.009838</td>\n",
       "    </tr>\n",
       "    <tr>\n",
       "      <th>2</th>\n",
       "      <td>1.001577</td>\n",
       "      <td>0.982502</td>\n",
       "      <td>0.984848</td>\n",
       "      <td>0.990417</td>\n",
       "      <td>0.996580</td>\n",
       "      <td>0.988969</td>\n",
       "      <td>1.028657</td>\n",
       "      <td>1.023020</td>\n",
       "      <td>0.999679</td>\n",
       "      <td>0.983186</td>\n",
       "      <td>...</td>\n",
       "      <td>0.999901</td>\n",
       "      <td>0.995033</td>\n",
       "      <td>1.020625</td>\n",
       "      <td>1.001852</td>\n",
       "      <td>0.999504</td>\n",
       "      <td>1.002524</td>\n",
       "      <td>0.993356</td>\n",
       "      <td>0.979843</td>\n",
       "      <td>0.998005</td>\n",
       "      <td>1.010106</td>\n",
       "    </tr>\n",
       "    <tr>\n",
       "      <th>3</th>\n",
       "      <td>1.000363</td>\n",
       "      <td>0.968751</td>\n",
       "      <td>0.987475</td>\n",
       "      <td>0.988532</td>\n",
       "      <td>0.995297</td>\n",
       "      <td>0.991199</td>\n",
       "      <td>1.014240</td>\n",
       "      <td>1.026952</td>\n",
       "      <td>0.999357</td>\n",
       "      <td>0.993888</td>\n",
       "      <td>...</td>\n",
       "      <td>0.999932</td>\n",
       "      <td>0.986677</td>\n",
       "      <td>1.031715</td>\n",
       "      <td>0.997447</td>\n",
       "      <td>1.009807</td>\n",
       "      <td>1.007135</td>\n",
       "      <td>0.999201</td>\n",
       "      <td>0.975423</td>\n",
       "      <td>1.012345</td>\n",
       "      <td>1.010915</td>\n",
       "    </tr>\n",
       "    <tr>\n",
       "      <th>4</th>\n",
       "      <td>0.984675</td>\n",
       "      <td>0.977270</td>\n",
       "      <td>0.978256</td>\n",
       "      <td>0.987832</td>\n",
       "      <td>1.008826</td>\n",
       "      <td>0.992770</td>\n",
       "      <td>1.008616</td>\n",
       "      <td>1.029781</td>\n",
       "      <td>1.005481</td>\n",
       "      <td>0.995568</td>\n",
       "      <td>...</td>\n",
       "      <td>1.007870</td>\n",
       "      <td>0.989228</td>\n",
       "      <td>1.033683</td>\n",
       "      <td>0.997288</td>\n",
       "      <td>1.025652</td>\n",
       "      <td>0.997800</td>\n",
       "      <td>0.997498</td>\n",
       "      <td>0.975454</td>\n",
       "      <td>1.021136</td>\n",
       "      <td>1.003400</td>\n",
       "    </tr>\n",
       "    <tr>\n",
       "      <th>...</th>\n",
       "      <td>...</td>\n",
       "      <td>...</td>\n",
       "      <td>...</td>\n",
       "      <td>...</td>\n",
       "      <td>...</td>\n",
       "      <td>...</td>\n",
       "      <td>...</td>\n",
       "      <td>...</td>\n",
       "      <td>...</td>\n",
       "      <td>...</td>\n",
       "      <td>...</td>\n",
       "      <td>...</td>\n",
       "      <td>...</td>\n",
       "      <td>...</td>\n",
       "      <td>...</td>\n",
       "      <td>...</td>\n",
       "      <td>...</td>\n",
       "      <td>...</td>\n",
       "      <td>...</td>\n",
       "      <td>...</td>\n",
       "      <td>...</td>\n",
       "    </tr>\n",
       "    <tr>\n",
       "      <th>7556</th>\n",
       "      <td>199.354152</td>\n",
       "      <td>56.728057</td>\n",
       "      <td>25.877393</td>\n",
       "      <td>40.203029</td>\n",
       "      <td>82.510634</td>\n",
       "      <td>63.575683</td>\n",
       "      <td>26.511496</td>\n",
       "      <td>75.318816</td>\n",
       "      <td>29.463421</td>\n",
       "      <td>76.375117</td>\n",
       "      <td>...</td>\n",
       "      <td>93.698771</td>\n",
       "      <td>129.902460</td>\n",
       "      <td>71.729199</td>\n",
       "      <td>30.536380</td>\n",
       "      <td>36.186285</td>\n",
       "      <td>33.204130</td>\n",
       "      <td>39.853742</td>\n",
       "      <td>68.877892</td>\n",
       "      <td>60.119835</td>\n",
       "      <td>24.221575</td>\n",
       "    </tr>\n",
       "    <tr>\n",
       "      <th>7557</th>\n",
       "      <td>198.608634</td>\n",
       "      <td>56.667753</td>\n",
       "      <td>26.182507</td>\n",
       "      <td>40.094727</td>\n",
       "      <td>82.501704</td>\n",
       "      <td>63.928252</td>\n",
       "      <td>26.445872</td>\n",
       "      <td>74.017341</td>\n",
       "      <td>29.300903</td>\n",
       "      <td>76.597919</td>\n",
       "      <td>...</td>\n",
       "      <td>93.297623</td>\n",
       "      <td>130.527095</td>\n",
       "      <td>71.141411</td>\n",
       "      <td>30.631340</td>\n",
       "      <td>36.483216</td>\n",
       "      <td>33.469080</td>\n",
       "      <td>40.169434</td>\n",
       "      <td>69.618449</td>\n",
       "      <td>59.443662</td>\n",
       "      <td>24.162357</td>\n",
       "    </tr>\n",
       "    <tr>\n",
       "      <th>7558</th>\n",
       "      <td>200.400063</td>\n",
       "      <td>56.532607</td>\n",
       "      <td>26.045514</td>\n",
       "      <td>40.499637</td>\n",
       "      <td>82.569081</td>\n",
       "      <td>65.070499</td>\n",
       "      <td>26.293980</td>\n",
       "      <td>74.672971</td>\n",
       "      <td>29.217009</td>\n",
       "      <td>77.490157</td>\n",
       "      <td>...</td>\n",
       "      <td>92.612681</td>\n",
       "      <td>130.845138</td>\n",
       "      <td>71.660230</td>\n",
       "      <td>30.453138</td>\n",
       "      <td>36.172973</td>\n",
       "      <td>33.534237</td>\n",
       "      <td>40.184809</td>\n",
       "      <td>69.277402</td>\n",
       "      <td>59.470529</td>\n",
       "      <td>24.685726</td>\n",
       "    </tr>\n",
       "    <tr>\n",
       "      <th>7559</th>\n",
       "      <td>200.625060</td>\n",
       "      <td>56.440629</td>\n",
       "      <td>25.916224</td>\n",
       "      <td>40.463785</td>\n",
       "      <td>83.091252</td>\n",
       "      <td>64.636892</td>\n",
       "      <td>26.341083</td>\n",
       "      <td>74.527337</td>\n",
       "      <td>29.746043</td>\n",
       "      <td>77.919612</td>\n",
       "      <td>...</td>\n",
       "      <td>92.146478</td>\n",
       "      <td>131.566297</td>\n",
       "      <td>71.417758</td>\n",
       "      <td>30.057904</td>\n",
       "      <td>36.260400</td>\n",
       "      <td>33.532168</td>\n",
       "      <td>40.125691</td>\n",
       "      <td>68.490215</td>\n",
       "      <td>59.535005</td>\n",
       "      <td>24.518204</td>\n",
       "    </tr>\n",
       "    <tr>\n",
       "      <th>7560</th>\n",
       "      <td>202.375879</td>\n",
       "      <td>56.619146</td>\n",
       "      <td>25.447778</td>\n",
       "      <td>40.948211</td>\n",
       "      <td>84.051226</td>\n",
       "      <td>64.228719</td>\n",
       "      <td>26.313882</td>\n",
       "      <td>73.769505</td>\n",
       "      <td>30.081450</td>\n",
       "      <td>77.286209</td>\n",
       "      <td>...</td>\n",
       "      <td>93.742793</td>\n",
       "      <td>131.106894</td>\n",
       "      <td>71.444239</td>\n",
       "      <td>30.423674</td>\n",
       "      <td>36.196743</td>\n",
       "      <td>33.727752</td>\n",
       "      <td>40.441173</td>\n",
       "      <td>68.845332</td>\n",
       "      <td>60.006946</td>\n",
       "      <td>24.268850</td>\n",
       "    </tr>\n",
       "  </tbody>\n",
       "</table>\n",
       "<p>7561 rows × 500 columns</p>\n",
       "</div>"
      ],
      "text/plain": [
       "             0          1          2          3          4          5    \\\n",
       "0       1.000000   1.000000   1.000000   1.000000   1.000000   1.000000   \n",
       "1       0.997447   0.993584   0.984785   0.998505   0.987182   0.995633   \n",
       "2       1.001577   0.982502   0.984848   0.990417   0.996580   0.988969   \n",
       "3       1.000363   0.968751   0.987475   0.988532   0.995297   0.991199   \n",
       "4       0.984675   0.977270   0.978256   0.987832   1.008826   0.992770   \n",
       "...          ...        ...        ...        ...        ...        ...   \n",
       "7556  199.354152  56.728057  25.877393  40.203029  82.510634  63.575683   \n",
       "7557  198.608634  56.667753  26.182507  40.094727  82.501704  63.928252   \n",
       "7558  200.400063  56.532607  26.045514  40.499637  82.569081  65.070499   \n",
       "7559  200.625060  56.440629  25.916224  40.463785  83.091252  64.636892   \n",
       "7560  202.375879  56.619146  25.447778  40.948211  84.051226  64.228719   \n",
       "\n",
       "            6          7          8          9    ...        490         491  \\\n",
       "0      1.000000   1.000000   1.000000   1.000000  ...   1.000000    1.000000   \n",
       "1      1.017714   1.027063   1.005765   0.996339  ...   0.995583    0.994502   \n",
       "2      1.028657   1.023020   0.999679   0.983186  ...   0.999901    0.995033   \n",
       "3      1.014240   1.026952   0.999357   0.993888  ...   0.999932    0.986677   \n",
       "4      1.008616   1.029781   1.005481   0.995568  ...   1.007870    0.989228   \n",
       "...         ...        ...        ...        ...  ...        ...         ...   \n",
       "7556  26.511496  75.318816  29.463421  76.375117  ...  93.698771  129.902460   \n",
       "7557  26.445872  74.017341  29.300903  76.597919  ...  93.297623  130.527095   \n",
       "7558  26.293980  74.672971  29.217009  77.490157  ...  92.612681  130.845138   \n",
       "7559  26.341083  74.527337  29.746043  77.919612  ...  92.146478  131.566297   \n",
       "7560  26.313882  73.769505  30.081450  77.286209  ...  93.742793  131.106894   \n",
       "\n",
       "            492        493        494        495        496        497  \\\n",
       "0      1.000000   1.000000   1.000000   1.000000   1.000000   1.000000   \n",
       "1      1.004296   0.989801   1.002496   1.014051   1.001213   0.989123   \n",
       "2      1.020625   1.001852   0.999504   1.002524   0.993356   0.979843   \n",
       "3      1.031715   0.997447   1.009807   1.007135   0.999201   0.975423   \n",
       "4      1.033683   0.997288   1.025652   0.997800   0.997498   0.975454   \n",
       "...         ...        ...        ...        ...        ...        ...   \n",
       "7556  71.729199  30.536380  36.186285  33.204130  39.853742  68.877892   \n",
       "7557  71.141411  30.631340  36.483216  33.469080  40.169434  69.618449   \n",
       "7558  71.660230  30.453138  36.172973  33.534237  40.184809  69.277402   \n",
       "7559  71.417758  30.057904  36.260400  33.532168  40.125691  68.490215   \n",
       "7560  71.444239  30.423674  36.196743  33.727752  40.441173  68.845332   \n",
       "\n",
       "            498        499  \n",
       "0      1.000000   1.000000  \n",
       "1      0.996643   1.009838  \n",
       "2      0.998005   1.010106  \n",
       "3      1.012345   1.010915  \n",
       "4      1.021136   1.003400  \n",
       "...         ...        ...  \n",
       "7556  60.119835  24.221575  \n",
       "7557  59.443662  24.162357  \n",
       "7558  59.470529  24.685726  \n",
       "7559  59.535005  24.518204  \n",
       "7560  60.006946  24.268850  \n",
       "\n",
       "[7561 rows x 500 columns]"
      ]
     },
     "execution_count": 140,
     "metadata": {},
     "output_type": "execute_result"
    }
   ],
   "source": [
    "# Monte Carlo simulation to forecast 30 years cumulative returns\n",
    "\n",
    "MC_30_Year_Simulation.calc_cumulative_return()"
   ]
  },
  {
   "cell_type": "code",
   "execution_count": 141,
   "metadata": {},
   "outputs": [
    {
     "data": {
      "image/png": "[encoded data removed]",
      "text/plain": [
       "<Figure size 432x288 with 1 Axes>"
      ]
     },
     "metadata": {
      "needs_background": "light"
     },
     "output_type": "display_data"
    }
   ],
   "source": [
    "# 30-year Monte Carlo simulation Visualization by overlay line plot\n",
    "\n",
    "MC_30year_sim_line_plot = MC_30_Year_Simulation.plot_simulation()"
   ]
  },
  {
   "cell_type": "markdown",
   "metadata": {},
   "source": [
    "#### Probability distribution Plot of the Monte Carlo simulation."
   ]
  },
  {
   "cell_type": "code",
   "execution_count": 142,
   "metadata": {},
   "outputs": [
    {
     "data": {
      "image/png": "[encoded data removed]",
      "text/plain": [
       "<Figure size 432x288 with 1 Axes>"
      ]
     },
     "metadata": {
      "needs_background": "light"
     },
     "output_type": "display_data"
    }
   ],
   "source": [
    "# Probability distribution Plot 30-year Monte Carlo simulation by plotting histogram.\n",
    "\n",
    "MC_30year_sim_dist_plot = MC_30_Year_Simulation.plot_distribution()"
   ]
  },
  {
   "cell_type": "markdown",
   "metadata": {},
   "source": [
    "#### Step 4: Generate the summary statistics for the Monte Carlo simulation."
   ]
  },
  {
   "cell_type": "code",
   "execution_count": 131,
   "metadata": {},
   "outputs": [
    {
     "name": "stdout",
     "output_type": "stream",
     "text": [
      "count           500.000000\n",
      "mean             80.802058\n",
      "std              75.263122\n",
      "min               7.271886\n",
      "25%              35.704537\n",
      "50%              62.728271\n",
      "75%              97.445896\n",
      "max             808.271408\n",
      "95% CI Lower     15.416758\n",
      "95% CI Upper    266.954163\n",
      "Name: 7560, dtype: float64\n"
     ]
    }
   ],
   "source": [
    "# Summary statistics from the 30-year Monte Carlo simulation results\n",
    "\n",
    "MC_30year_summary_statistics = MC_30_Year_Simulation.summarize_cumulative_return()\n",
    "\n",
    "# Review the 30-year Monte Carlo summary statistics\n",
    "print(MC_30year_summary_statistics)"
   ]
  },
  {
   "cell_type": "markdown",
   "metadata": {},
   "source": [
    "### Analyze the Retirement Portfolio Forecasts\n",
    "\n",
    "Using the current value of only the stock and bond portion of the member's portfolio and the summary statistics that was generated from the Monte Carlo simulation\n",
    "\n",
    "**Question :**\n",
    "-  What are the lower and upper bounds for the expected value of the portfolio with a 95% confidence interval?\n"
   ]
  },
  {
   "cell_type": "code",
   "execution_count": 146,
   "metadata": {},
   "outputs": [
    {
     "name": "stdout",
     "output_type": "stream",
     "text": [
      "\n",
      "The current balance of the Stock and Bond Portion of the members portfolio is : $74034.3\n",
      "\n"
     ]
    }
   ],
   "source": [
    "# The current balance of the stock and bond portion of the members portfolio\n",
    "\n",
    "print(f\"\\nThe current balance of the Stock and Bond Portion of the members portfolio is : ${total_stocks_bonds}\\n\")"
   ]
  },
  {
   "cell_type": "code",
   "execution_count": 149,
   "metadata": {},
   "outputs": [
    {
     "name": "stdout",
     "output_type": "stream",
     "text": [
      "\n",
      "Answer:\n",
      "\n",
      "There is a 95% chance that the  incurrent value of $74034.3 \n",
      "in the portfolio over the next 30 years \n",
      "will end within in the range of $ 1141368.85 and $ 19763764.57.\n"
     ]
    }
   ],
   "source": [
    "# Using the lower and upper `95%` confidence intervals to calculate the range of the possible outcomes for the current stock/bond portfolio\n",
    "ci_lower_thirty_cumulative_return = MC_30year_summary_statistics[\"95% CI Lower\"] * total_stocks_bonds\n",
    "ci_upper_thirty_cumulative_return = MC_30year_summary_statistics[\"95% CI Upper\"] * total_stocks_bonds\n",
    "\n",
    "# Print the result of your calculations\n",
    "print(f\"\\nAnswer:\")\n",
    "print(f\"\\nThere is a 95% chance that the  incurrent value of ${total_stocks_bonds} \\nin the portfolio\"\n",
    "  f\" over the next 30 years \\nwill end within in the range of\"\n",
    "  f\" ${ci_lower_thirty_cumulative_return: .2f} and ${ci_upper_thirty_cumulative_return: .2f}.\")\n"
   ]
  },
  {
   "cell_type": "markdown",
   "metadata": {},
   "source": [
    "### Cumulative Returns Forecast for 10 Years\n",
    "\n",
    "The next objective is to adjust the retirement portfolio and run a new Monte Carlo simulation to find out if the changes will allow the member to retire earlier.\n",
    "\n",
    "Below steps are folowed for this new Monte Carlo simulation: \n",
    "\n",
    "- Cumulative returns for 10 years from now is forecasted. To accumulate wealth for retirement in shortened investment horizon(compared to 30 years), the portfolio need to invest heavily in the riskier asset(that is, stock)\n",
    "\n",
    "- The weights of the retirement portfolio is adjusted so that the composition for the Monte Carlo simulation consists of 20% bonds and 80% stocks. \n",
    "\n",
    "- We run the simulation over 500 samples, and use the same data that the API call to Alpaca generated.\n"
   ]
  },
  {
   "cell_type": "code",
   "execution_count": 151,
   "metadata": {},
   "outputs": [
    {
     "data": {
      "text/html": [
       "<div>\n",
       "<style scoped>\n",
       "    .dataframe tbody tr th:only-of-type {\n",
       "        vertical-align: middle;\n",
       "    }\n",
       "\n",
       "    .dataframe tbody tr th {\n",
       "        vertical-align: top;\n",
       "    }\n",
       "\n",
       "    .dataframe thead tr th {\n",
       "        text-align: left;\n",
       "    }\n",
       "\n",
       "    .dataframe thead tr:last-of-type th {\n",
       "        text-align: right;\n",
       "    }\n",
       "</style>\n",
       "<table border=\"1\" class=\"dataframe\">\n",
       "  <thead>\n",
       "    <tr>\n",
       "      <th></th>\n",
       "      <th colspan=\"6\" halign=\"left\">AGG</th>\n",
       "      <th colspan=\"6\" halign=\"left\">SPY</th>\n",
       "    </tr>\n",
       "    <tr>\n",
       "      <th></th>\n",
       "      <th>open</th>\n",
       "      <th>high</th>\n",
       "      <th>low</th>\n",
       "      <th>close</th>\n",
       "      <th>volume</th>\n",
       "      <th>daily_return</th>\n",
       "      <th>open</th>\n",
       "      <th>high</th>\n",
       "      <th>low</th>\n",
       "      <th>close</th>\n",
       "      <th>volume</th>\n",
       "      <th>daily_return</th>\n",
       "    </tr>\n",
       "    <tr>\n",
       "      <th>time</th>\n",
       "      <th></th>\n",
       "      <th></th>\n",
       "      <th></th>\n",
       "      <th></th>\n",
       "      <th></th>\n",
       "      <th></th>\n",
       "      <th></th>\n",
       "      <th></th>\n",
       "      <th></th>\n",
       "      <th></th>\n",
       "      <th></th>\n",
       "      <th></th>\n",
       "    </tr>\n",
       "  </thead>\n",
       "  <tbody>\n",
       "    <tr>\n",
       "      <th>2019-01-07 00:00:00-05:00</th>\n",
       "      <td>106.72</td>\n",
       "      <td>106.79</td>\n",
       "      <td>106.46</td>\n",
       "      <td>106.470</td>\n",
       "      <td>6545877.0</td>\n",
       "      <td>NaN</td>\n",
       "      <td>252.69</td>\n",
       "      <td>255.9500</td>\n",
       "      <td>251.69</td>\n",
       "      <td>254.40</td>\n",
       "      <td>88317608</td>\n",
       "      <td>NaN</td>\n",
       "    </tr>\n",
       "    <tr>\n",
       "      <th>2019-01-08 00:00:00-05:00</th>\n",
       "      <td>106.40</td>\n",
       "      <td>106.53</td>\n",
       "      <td>105.53</td>\n",
       "      <td>106.420</td>\n",
       "      <td>3818241.0</td>\n",
       "      <td>-0.000470</td>\n",
       "      <td>256.82</td>\n",
       "      <td>257.3100</td>\n",
       "      <td>254.00</td>\n",
       "      <td>256.65</td>\n",
       "      <td>88864452</td>\n",
       "      <td>0.008844</td>\n",
       "    </tr>\n",
       "    <tr>\n",
       "      <th>2019-01-09 00:00:00-05:00</th>\n",
       "      <td>106.42</td>\n",
       "      <td>106.57</td>\n",
       "      <td>105.95</td>\n",
       "      <td>106.480</td>\n",
       "      <td>5163839.0</td>\n",
       "      <td>0.000564</td>\n",
       "      <td>257.56</td>\n",
       "      <td>258.9100</td>\n",
       "      <td>241.40</td>\n",
       "      <td>257.71</td>\n",
       "      <td>77555720</td>\n",
       "      <td>0.004130</td>\n",
       "    </tr>\n",
       "    <tr>\n",
       "      <th>2019-01-10 00:00:00-05:00</th>\n",
       "      <td>106.52</td>\n",
       "      <td>106.56</td>\n",
       "      <td>106.33</td>\n",
       "      <td>106.385</td>\n",
       "      <td>3441214.0</td>\n",
       "      <td>-0.000892</td>\n",
       "      <td>256.26</td>\n",
       "      <td>259.1600</td>\n",
       "      <td>255.50</td>\n",
       "      <td>258.94</td>\n",
       "      <td>85909797</td>\n",
       "      <td>0.004773</td>\n",
       "    </tr>\n",
       "    <tr>\n",
       "      <th>2019-01-11 00:00:00-05:00</th>\n",
       "      <td>106.58</td>\n",
       "      <td>106.66</td>\n",
       "      <td>106.50</td>\n",
       "      <td>106.560</td>\n",
       "      <td>5638395.0</td>\n",
       "      <td>0.001645</td>\n",
       "      <td>257.68</td>\n",
       "      <td>259.0098</td>\n",
       "      <td>257.03</td>\n",
       "      <td>258.76</td>\n",
       "      <td>60544770</td>\n",
       "      <td>-0.000695</td>\n",
       "    </tr>\n",
       "  </tbody>\n",
       "</table>\n",
       "</div>"
      ],
      "text/plain": [
       "                              AGG                                      \\\n",
       "                             open    high     low    close     volume   \n",
       "time                                                                    \n",
       "2019-01-07 00:00:00-05:00  106.72  106.79  106.46  106.470  6545877.0   \n",
       "2019-01-08 00:00:00-05:00  106.40  106.53  105.53  106.420  3818241.0   \n",
       "2019-01-09 00:00:00-05:00  106.42  106.57  105.95  106.480  5163839.0   \n",
       "2019-01-10 00:00:00-05:00  106.52  106.56  106.33  106.385  3441214.0   \n",
       "2019-01-11 00:00:00-05:00  106.58  106.66  106.50  106.560  5638395.0   \n",
       "\n",
       "                                           SPY                            \\\n",
       "                          daily_return    open      high     low   close   \n",
       "time                                                                       \n",
       "2019-01-07 00:00:00-05:00          NaN  252.69  255.9500  251.69  254.40   \n",
       "2019-01-08 00:00:00-05:00    -0.000470  256.82  257.3100  254.00  256.65   \n",
       "2019-01-09 00:00:00-05:00     0.000564  257.56  258.9100  241.40  257.71   \n",
       "2019-01-10 00:00:00-05:00    -0.000892  256.26  259.1600  255.50  258.94   \n",
       "2019-01-11 00:00:00-05:00     0.001645  257.68  259.0098  257.03  258.76   \n",
       "\n",
       "                                                  \n",
       "                             volume daily_return  \n",
       "time                                              \n",
       "2019-01-07 00:00:00-05:00  88317608          NaN  \n",
       "2019-01-08 00:00:00-05:00  88864452     0.008844  \n",
       "2019-01-09 00:00:00-05:00  77555720     0.004130  \n",
       "2019-01-10 00:00:00-05:00  85909797     0.004773  \n",
       "2019-01-11 00:00:00-05:00  60544770    -0.000695  "
      ]
     },
     "execution_count": 151,
     "metadata": {},
     "output_type": "execute_result"
    }
   ],
   "source": [
    "# Monte Carlo simulation to forecast 10 years cumulative returns.\n",
    "# The weights is split 20% to AGG and 80% to SPY.\n",
    "\n",
    "MC_10_Year_Simulation = MCSimulation(\n",
    "    portfolio_data = portfolio_3_year_prices_df,\n",
    "    weights = [.20,.80],\n",
    "    num_simulation = 500,\n",
    "    num_trading_days = 252 * 10\n",
    ")\n",
    "# The simulation input data\n",
    "MC_10_Year_Simulation.portfolio_data.head()"
   ]
  },
  {
   "cell_type": "code",
   "execution_count": 152,
   "metadata": {},
   "outputs": [
    {
     "name": "stdout",
     "output_type": "stream",
     "text": [
      "Running Monte Carlo simulation number 0.\n",
      "Running Monte Carlo simulation number 10.\n",
      "Running Monte Carlo simulation number 20.\n",
      "Running Monte Carlo simulation number 30.\n",
      "Running Monte Carlo simulation number 40.\n",
      "Running Monte Carlo simulation number 50.\n",
      "Running Monte Carlo simulation number 60.\n",
      "Running Monte Carlo simulation number 70.\n",
      "Running Monte Carlo simulation number 80.\n",
      "Running Monte Carlo simulation number 90.\n",
      "Running Monte Carlo simulation number 100.\n"
     ]
    },
    {
     "name": "stderr",
     "output_type": "stream",
     "text": [
      "/Users/rupika/bootcamp/FinTech_Workspace/Week5/module_5_challenge/Plan_Your_Finance/MCForecastTools.py:117: PerformanceWarning: DataFrame is highly fragmented.  This is usually the result of calling `frame.insert` many times, which has poor performance.  Consider joining all columns at once using pd.concat(axis=1) instead.  To get a de-fragmented frame, use `newframe = frame.copy()`\n",
      "  portfolio_cumulative_returns[n] = (1 + sim_df.fillna(0)).cumprod()\n"
     ]
    },
    {
     "name": "stdout",
     "output_type": "stream",
     "text": [
      "Running Monte Carlo simulation number 110.\n",
      "Running Monte Carlo simulation number 120.\n",
      "Running Monte Carlo simulation number 130.\n",
      "Running Monte Carlo simulation number 140.\n",
      "Running Monte Carlo simulation number 150.\n",
      "Running Monte Carlo simulation number 160.\n",
      "Running Monte Carlo simulation number 170.\n",
      "Running Monte Carlo simulation number 180.\n",
      "Running Monte Carlo simulation number 190.\n",
      "Running Monte Carlo simulation number 200.\n",
      "Running Monte Carlo simulation number 210.\n",
      "Running Monte Carlo simulation number 220.\n",
      "Running Monte Carlo simulation number 230.\n",
      "Running Monte Carlo simulation number 240.\n",
      "Running Monte Carlo simulation number 250.\n",
      "Running Monte Carlo simulation number 260.\n",
      "Running Monte Carlo simulation number 270.\n",
      "Running Monte Carlo simulation number 280.\n",
      "Running Monte Carlo simulation number 290.\n",
      "Running Monte Carlo simulation number 300.\n",
      "Running Monte Carlo simulation number 310.\n",
      "Running Monte Carlo simulation number 320.\n",
      "Running Monte Carlo simulation number 330.\n",
      "Running Monte Carlo simulation number 340.\n",
      "Running Monte Carlo simulation number 350.\n",
      "Running Monte Carlo simulation number 360.\n",
      "Running Monte Carlo simulation number 370.\n",
      "Running Monte Carlo simulation number 380.\n",
      "Running Monte Carlo simulation number 390.\n",
      "Running Monte Carlo simulation number 400.\n",
      "Running Monte Carlo simulation number 410.\n",
      "Running Monte Carlo simulation number 420.\n",
      "Running Monte Carlo simulation number 430.\n",
      "Running Monte Carlo simulation number 440.\n",
      "Running Monte Carlo simulation number 450.\n",
      "Running Monte Carlo simulation number 460.\n",
      "Running Monte Carlo simulation number 470.\n",
      "Running Monte Carlo simulation number 480.\n",
      "Running Monte Carlo simulation number 490.\n"
     ]
    },
    {
     "data": {
      "text/html": [
       "<div>\n",
       "<style scoped>\n",
       "    .dataframe tbody tr th:only-of-type {\n",
       "        vertical-align: middle;\n",
       "    }\n",
       "\n",
       "    .dataframe tbody tr th {\n",
       "        vertical-align: top;\n",
       "    }\n",
       "\n",
       "    .dataframe thead th {\n",
       "        text-align: right;\n",
       "    }\n",
       "</style>\n",
       "<table border=\"1\" class=\"dataframe\">\n",
       "  <thead>\n",
       "    <tr style=\"text-align: right;\">\n",
       "      <th></th>\n",
       "      <th>0</th>\n",
       "      <th>1</th>\n",
       "      <th>2</th>\n",
       "      <th>3</th>\n",
       "      <th>4</th>\n",
       "      <th>5</th>\n",
       "      <th>6</th>\n",
       "      <th>7</th>\n",
       "      <th>8</th>\n",
       "      <th>9</th>\n",
       "      <th>...</th>\n",
       "      <th>490</th>\n",
       "      <th>491</th>\n",
       "      <th>492</th>\n",
       "      <th>493</th>\n",
       "      <th>494</th>\n",
       "      <th>495</th>\n",
       "      <th>496</th>\n",
       "      <th>497</th>\n",
       "      <th>498</th>\n",
       "      <th>499</th>\n",
       "    </tr>\n",
       "  </thead>\n",
       "  <tbody>\n",
       "    <tr>\n",
       "      <th>0</th>\n",
       "      <td>1.000000</td>\n",
       "      <td>1.000000</td>\n",
       "      <td>1.000000</td>\n",
       "      <td>1.000000</td>\n",
       "      <td>1.000000</td>\n",
       "      <td>1.000000</td>\n",
       "      <td>1.000000</td>\n",
       "      <td>1.000000</td>\n",
       "      <td>1.000000</td>\n",
       "      <td>1.000000</td>\n",
       "      <td>...</td>\n",
       "      <td>1.000000</td>\n",
       "      <td>1.000000</td>\n",
       "      <td>1.000000</td>\n",
       "      <td>1.000000</td>\n",
       "      <td>1.000000</td>\n",
       "      <td>1.000000</td>\n",
       "      <td>1.000000</td>\n",
       "      <td>1.000000</td>\n",
       "      <td>1.000000</td>\n",
       "      <td>1.000000</td>\n",
       "    </tr>\n",
       "    <tr>\n",
       "      <th>1</th>\n",
       "      <td>1.004329</td>\n",
       "      <td>0.985304</td>\n",
       "      <td>0.998968</td>\n",
       "      <td>1.002573</td>\n",
       "      <td>0.996667</td>\n",
       "      <td>0.987175</td>\n",
       "      <td>0.996849</td>\n",
       "      <td>0.991102</td>\n",
       "      <td>0.995993</td>\n",
       "      <td>0.992593</td>\n",
       "      <td>...</td>\n",
       "      <td>1.004858</td>\n",
       "      <td>0.995686</td>\n",
       "      <td>1.017028</td>\n",
       "      <td>0.991600</td>\n",
       "      <td>1.002309</td>\n",
       "      <td>0.994562</td>\n",
       "      <td>1.010092</td>\n",
       "      <td>0.998679</td>\n",
       "      <td>1.004481</td>\n",
       "      <td>1.006876</td>\n",
       "    </tr>\n",
       "    <tr>\n",
       "      <th>2</th>\n",
       "      <td>0.997529</td>\n",
       "      <td>1.005403</td>\n",
       "      <td>1.000237</td>\n",
       "      <td>1.000435</td>\n",
       "      <td>0.990268</td>\n",
       "      <td>0.980472</td>\n",
       "      <td>1.001557</td>\n",
       "      <td>0.987317</td>\n",
       "      <td>1.008887</td>\n",
       "      <td>0.991946</td>\n",
       "      <td>...</td>\n",
       "      <td>1.017582</td>\n",
       "      <td>0.992717</td>\n",
       "      <td>1.026759</td>\n",
       "      <td>0.998458</td>\n",
       "      <td>1.016888</td>\n",
       "      <td>1.010507</td>\n",
       "      <td>1.006036</td>\n",
       "      <td>0.991874</td>\n",
       "      <td>1.007212</td>\n",
       "      <td>1.029745</td>\n",
       "    </tr>\n",
       "    <tr>\n",
       "      <th>3</th>\n",
       "      <td>1.013338</td>\n",
       "      <td>0.987078</td>\n",
       "      <td>0.987573</td>\n",
       "      <td>0.991190</td>\n",
       "      <td>0.969565</td>\n",
       "      <td>0.982880</td>\n",
       "      <td>1.008658</td>\n",
       "      <td>0.991015</td>\n",
       "      <td>1.021765</td>\n",
       "      <td>1.000915</td>\n",
       "      <td>...</td>\n",
       "      <td>1.037064</td>\n",
       "      <td>0.981054</td>\n",
       "      <td>1.020924</td>\n",
       "      <td>0.996972</td>\n",
       "      <td>1.015756</td>\n",
       "      <td>1.016274</td>\n",
       "      <td>1.010595</td>\n",
       "      <td>0.996589</td>\n",
       "      <td>1.004481</td>\n",
       "      <td>1.027504</td>\n",
       "    </tr>\n",
       "    <tr>\n",
       "      <th>4</th>\n",
       "      <td>1.004489</td>\n",
       "      <td>0.999682</td>\n",
       "      <td>1.000944</td>\n",
       "      <td>0.972595</td>\n",
       "      <td>0.992551</td>\n",
       "      <td>0.982126</td>\n",
       "      <td>1.006452</td>\n",
       "      <td>1.000614</td>\n",
       "      <td>1.029641</td>\n",
       "      <td>0.990397</td>\n",
       "      <td>...</td>\n",
       "      <td>1.025295</td>\n",
       "      <td>0.972310</td>\n",
       "      <td>1.023254</td>\n",
       "      <td>0.998070</td>\n",
       "      <td>1.013487</td>\n",
       "      <td>1.027976</td>\n",
       "      <td>1.041443</td>\n",
       "      <td>0.993438</td>\n",
       "      <td>1.011099</td>\n",
       "      <td>1.021984</td>\n",
       "    </tr>\n",
       "    <tr>\n",
       "      <th>...</th>\n",
       "      <td>...</td>\n",
       "      <td>...</td>\n",
       "      <td>...</td>\n",
       "      <td>...</td>\n",
       "      <td>...</td>\n",
       "      <td>...</td>\n",
       "      <td>...</td>\n",
       "      <td>...</td>\n",
       "      <td>...</td>\n",
       "      <td>...</td>\n",
       "      <td>...</td>\n",
       "      <td>...</td>\n",
       "      <td>...</td>\n",
       "      <td>...</td>\n",
       "      <td>...</td>\n",
       "      <td>...</td>\n",
       "      <td>...</td>\n",
       "      <td>...</td>\n",
       "      <td>...</td>\n",
       "      <td>...</td>\n",
       "      <td>...</td>\n",
       "    </tr>\n",
       "    <tr>\n",
       "      <th>2516</th>\n",
       "      <td>6.236116</td>\n",
       "      <td>4.802358</td>\n",
       "      <td>3.785302</td>\n",
       "      <td>3.605848</td>\n",
       "      <td>2.573496</td>\n",
       "      <td>14.563689</td>\n",
       "      <td>4.601745</td>\n",
       "      <td>2.863399</td>\n",
       "      <td>4.953487</td>\n",
       "      <td>14.361299</td>\n",
       "      <td>...</td>\n",
       "      <td>7.421739</td>\n",
       "      <td>12.515828</td>\n",
       "      <td>9.783376</td>\n",
       "      <td>3.021803</td>\n",
       "      <td>13.406056</td>\n",
       "      <td>2.536530</td>\n",
       "      <td>5.911196</td>\n",
       "      <td>3.365251</td>\n",
       "      <td>5.150106</td>\n",
       "      <td>2.765167</td>\n",
       "    </tr>\n",
       "    <tr>\n",
       "      <th>2517</th>\n",
       "      <td>6.279578</td>\n",
       "      <td>4.723973</td>\n",
       "      <td>3.774739</td>\n",
       "      <td>3.629214</td>\n",
       "      <td>2.585670</td>\n",
       "      <td>14.373810</td>\n",
       "      <td>4.520169</td>\n",
       "      <td>2.843415</td>\n",
       "      <td>4.839316</td>\n",
       "      <td>14.331196</td>\n",
       "      <td>...</td>\n",
       "      <td>7.592929</td>\n",
       "      <td>12.342213</td>\n",
       "      <td>9.592345</td>\n",
       "      <td>2.993960</td>\n",
       "      <td>13.409341</td>\n",
       "      <td>2.545203</td>\n",
       "      <td>5.981269</td>\n",
       "      <td>3.346658</td>\n",
       "      <td>5.179971</td>\n",
       "      <td>2.759559</td>\n",
       "    </tr>\n",
       "    <tr>\n",
       "      <th>2518</th>\n",
       "      <td>6.254785</td>\n",
       "      <td>4.646240</td>\n",
       "      <td>3.804993</td>\n",
       "      <td>3.622800</td>\n",
       "      <td>2.630007</td>\n",
       "      <td>14.287906</td>\n",
       "      <td>4.522354</td>\n",
       "      <td>2.810649</td>\n",
       "      <td>4.821158</td>\n",
       "      <td>14.643897</td>\n",
       "      <td>...</td>\n",
       "      <td>7.724514</td>\n",
       "      <td>12.576447</td>\n",
       "      <td>9.589260</td>\n",
       "      <td>3.043884</td>\n",
       "      <td>13.563121</td>\n",
       "      <td>2.570909</td>\n",
       "      <td>5.838722</td>\n",
       "      <td>3.333097</td>\n",
       "      <td>5.089096</td>\n",
       "      <td>2.802900</td>\n",
       "    </tr>\n",
       "    <tr>\n",
       "      <th>2519</th>\n",
       "      <td>6.308919</td>\n",
       "      <td>4.765451</td>\n",
       "      <td>3.815972</td>\n",
       "      <td>3.645498</td>\n",
       "      <td>2.631354</td>\n",
       "      <td>14.498545</td>\n",
       "      <td>4.490757</td>\n",
       "      <td>2.818219</td>\n",
       "      <td>4.858927</td>\n",
       "      <td>14.796106</td>\n",
       "      <td>...</td>\n",
       "      <td>7.654550</td>\n",
       "      <td>12.868204</td>\n",
       "      <td>9.728313</td>\n",
       "      <td>3.053535</td>\n",
       "      <td>13.603710</td>\n",
       "      <td>2.605705</td>\n",
       "      <td>5.841594</td>\n",
       "      <td>3.379162</td>\n",
       "      <td>5.045816</td>\n",
       "      <td>2.746969</td>\n",
       "    </tr>\n",
       "    <tr>\n",
       "      <th>2520</th>\n",
       "      <td>6.324799</td>\n",
       "      <td>4.816130</td>\n",
       "      <td>3.793429</td>\n",
       "      <td>3.631292</td>\n",
       "      <td>2.573542</td>\n",
       "      <td>14.800976</td>\n",
       "      <td>4.624872</td>\n",
       "      <td>2.851818</td>\n",
       "      <td>4.801261</td>\n",
       "      <td>14.861668</td>\n",
       "      <td>...</td>\n",
       "      <td>7.592887</td>\n",
       "      <td>12.870608</td>\n",
       "      <td>9.776047</td>\n",
       "      <td>3.056993</td>\n",
       "      <td>13.568925</td>\n",
       "      <td>2.662494</td>\n",
       "      <td>5.838584</td>\n",
       "      <td>3.381428</td>\n",
       "      <td>5.082977</td>\n",
       "      <td>2.753610</td>\n",
       "    </tr>\n",
       "  </tbody>\n",
       "</table>\n",
       "<p>2521 rows × 500 columns</p>\n",
       "</div>"
      ],
      "text/plain": [
       "           0         1         2         3         4          5         6    \\\n",
       "0     1.000000  1.000000  1.000000  1.000000  1.000000   1.000000  1.000000   \n",
       "1     1.004329  0.985304  0.998968  1.002573  0.996667   0.987175  0.996849   \n",
       "2     0.997529  1.005403  1.000237  1.000435  0.990268   0.980472  1.001557   \n",
       "3     1.013338  0.987078  0.987573  0.991190  0.969565   0.982880  1.008658   \n",
       "4     1.004489  0.999682  1.000944  0.972595  0.992551   0.982126  1.006452   \n",
       "...        ...       ...       ...       ...       ...        ...       ...   \n",
       "2516  6.236116  4.802358  3.785302  3.605848  2.573496  14.563689  4.601745   \n",
       "2517  6.279578  4.723973  3.774739  3.629214  2.585670  14.373810  4.520169   \n",
       "2518  6.254785  4.646240  3.804993  3.622800  2.630007  14.287906  4.522354   \n",
       "2519  6.308919  4.765451  3.815972  3.645498  2.631354  14.498545  4.490757   \n",
       "2520  6.324799  4.816130  3.793429  3.631292  2.573542  14.800976  4.624872   \n",
       "\n",
       "           7         8          9    ...       490        491       492  \\\n",
       "0     1.000000  1.000000   1.000000  ...  1.000000   1.000000  1.000000   \n",
       "1     0.991102  0.995993   0.992593  ...  1.004858   0.995686  1.017028   \n",
       "2     0.987317  1.008887   0.991946  ...  1.017582   0.992717  1.026759   \n",
       "3     0.991015  1.021765   1.000915  ...  1.037064   0.981054  1.020924   \n",
       "4     1.000614  1.029641   0.990397  ...  1.025295   0.972310  1.023254   \n",
       "...        ...       ...        ...  ...       ...        ...       ...   \n",
       "2516  2.863399  4.953487  14.361299  ...  7.421739  12.515828  9.783376   \n",
       "2517  2.843415  4.839316  14.331196  ...  7.592929  12.342213  9.592345   \n",
       "2518  2.810649  4.821158  14.643897  ...  7.724514  12.576447  9.589260   \n",
       "2519  2.818219  4.858927  14.796106  ...  7.654550  12.868204  9.728313   \n",
       "2520  2.851818  4.801261  14.861668  ...  7.592887  12.870608  9.776047   \n",
       "\n",
       "           493        494       495       496       497       498       499  \n",
       "0     1.000000   1.000000  1.000000  1.000000  1.000000  1.000000  1.000000  \n",
       "1     0.991600   1.002309  0.994562  1.010092  0.998679  1.004481  1.006876  \n",
       "2     0.998458   1.016888  1.010507  1.006036  0.991874  1.007212  1.029745  \n",
       "3     0.996972   1.015756  1.016274  1.010595  0.996589  1.004481  1.027504  \n",
       "4     0.998070   1.013487  1.027976  1.041443  0.993438  1.011099  1.021984  \n",
       "...        ...        ...       ...       ...       ...       ...       ...  \n",
       "2516  3.021803  13.406056  2.536530  5.911196  3.365251  5.150106  2.765167  \n",
       "2517  2.993960  13.409341  2.545203  5.981269  3.346658  5.179971  2.759559  \n",
       "2518  3.043884  13.563121  2.570909  5.838722  3.333097  5.089096  2.802900  \n",
       "2519  3.053535  13.603710  2.605705  5.841594  3.379162  5.045816  2.746969  \n",
       "2520  3.056993  13.568925  2.662494  5.838584  3.381428  5.082977  2.753610  \n",
       "\n",
       "[2521 rows x 500 columns]"
      ]
     },
     "execution_count": 152,
     "metadata": {},
     "output_type": "execute_result"
    }
   ],
   "source": [
    "# Run the Monte Carlo simulation to forecast 10 years cumulative returns\n",
    "MC_10_Year_Simulation.calc_cumulative_return()"
   ]
  },
  {
   "cell_type": "code",
   "execution_count": 153,
   "metadata": {},
   "outputs": [
    {
     "data": {
      "image/png": "[encoded data removed]",
      "text/plain": [
       "<Figure size 432x288 with 1 Axes>"
      ]
     },
     "metadata": {
      "needs_background": "light"
     },
     "output_type": "display_data"
    }
   ],
   "source": [
    "#  10-year Monte Carlo simulation visualization\n",
    "\n",
    "MC_10year_sim_line_plot = MC_10_Year_Simulation.plot_simulation()"
   ]
  },
  {
   "cell_type": "code",
   "execution_count": 130,
   "metadata": {},
   "outputs": [
    {
     "data": {
      "image/png": "[encoded data removed]",
      "text/plain": [
       "<Figure size 432x288 with 1 Axes>"
      ]
     },
     "metadata": {
      "needs_background": "light"
     },
     "output_type": "display_data"
    }
   ],
   "source": [
    "# The probability distribution visualization of the 10-year Monte Carlo simulation \n",
    "# by a histogram\n",
    "MC_10year_sim_dist_plot = MC_10_Year_Simulation.plot_distribution()"
   ]
  },
  {
   "cell_type": "code",
   "execution_count": 132,
   "metadata": {},
   "outputs": [
    {
     "name": "stdout",
     "output_type": "stream",
     "text": [
      "count           500.000000\n",
      "mean              6.792113\n",
      "std               4.044967\n",
      "min               1.207160\n",
      "25%               3.890686\n",
      "50%               5.743624\n",
      "75%               8.892419\n",
      "max              36.766725\n",
      "95% CI Lower      1.939505\n",
      "95% CI Upper     15.884543\n",
      "Name: 2520, dtype: float64\n"
     ]
    }
   ],
   "source": [
    "# Summary statistics for the 10-year Monte Carlo simulation results\n",
    "\n",
    "MC_10year_summary_statistics = MC_10_Year_Simulation.summarize_cumulative_return()\n",
    "\n",
    "# The 10-year Monte Carlo summary statistics\n",
    "print(MC_10year_summary_statistics)\n"
   ]
  },
  {
   "cell_type": "markdown",
   "metadata": {},
   "source": [
    "### Answer the following questions:"
   ]
  },
  {
   "cell_type": "markdown",
   "metadata": {},
   "source": [
    "#### Question 1: \n",
    "    Using the current value of only the stock and bond portion of the member's portfolio and the summary statistics that was generated from the new Monte Carlo simulation, what are the lower and upper bounds for the expected value of the portfolio (with the new weights) with a 95% confidence interval?"
   ]
  },
  {
   "cell_type": "code",
   "execution_count": null,
   "metadata": {},
   "outputs": [],
   "source": [
    "# The current balance of the stock and bond portion of the members portfolio\n",
    "print(f\"The current balance of the Stock and Bond Portion of the members portfolio is : ${total_stocks_bonds}\")"
   ]
  },
  {
   "cell_type": "code",
   "execution_count": 156,
   "metadata": {},
   "outputs": [
    {
     "name": "stdout",
     "output_type": "stream",
     "text": [
      "\n",
      "Answer 1 :\n",
      "\n",
      "There is a 95% chance that the  incurrent value of $74034.3 \n",
      "in the portfolio over the next 30 years will end \n",
      "within in the range of $ 143589.87 and $ 1176001.00.\n",
      "\n"
     ]
    }
   ],
   "source": [
    "# The lower and upper `95%` confidence intervals are used to calculate the range of the possible outcomes for the current stock/bond portfolio\n",
    "ci_lower_ten_cumulative_return = MC_10year_summary_statistics[\"95% CI Lower\"] * total_stocks_bonds\n",
    "ci_upper_ten_cumulative_return = MC_10year_summary_statistics[\"95% CI Upper\"] * total_stocks_bonds\n",
    "\n",
    "# The result of the calculations\n",
    "print(f\"\\nAnswer 1 :\")\n",
    "print(f\"\\nThere is a 95% chance that the  incurrent value of ${total_stocks_bonds} \\nin the portfolio\"\n",
    "  f\" over the next 30 years will end \\nwithin in the range of\"\n",
    "  f\" ${ci_lower_ten_cumulative_return: .2f} and ${ci_upper_ten_cumulative_return: .2f}.\\n\")"
   ]
  },
  {
   "cell_type": "markdown",
   "metadata": {},
   "source": [
    "#### Question 2: \n",
    "    Will weighting the portfolio more heavily to stocks allow the credit union members to retire after only 10 years?"
   ]
  },
  {
   "cell_type": "markdown",
   "metadata": {},
   "source": [
    "**Answer 2**\n",
    "\n",
    "    * Given a 95% confidence interval, the upper and lower bounds of the cumulative returns for the portfolio for 30 year similation beats the the upper and lower bounds of the cumulative returns for the portfolio for 10 year\n",
    "    * So the Answer is **NO** given the current portfolio value for the credit Union Memeber will do better in 30 year than in 10 years even if we give more weight to stocks than bonds."
   ]
  },
  {
   "cell_type": "code",
   "execution_count": null,
   "metadata": {},
   "outputs": [],
   "source": []
  }
 ],
 "metadata": {
  "kernelspec": {
   "display_name": "Python 3 (ipykernel)",
   "language": "python",
   "name": "python3"
  },
  "language_info": {
   "codemirror_mode": {
    "name": "ipython",
    "version": 3
   },
   "file_extension": ".py",
   "mimetype": "text/x-python",
   "name": "python",
   "nbconvert_exporter": "python",
   "pygments_lexer": "ipython3",
   "version": "3.7.11"
  }
 },
 "nbformat": 4,
 "nbformat_minor": 4
}
